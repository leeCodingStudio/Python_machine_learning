{
  "nbformat": 4,
  "nbformat_minor": 0,
  "metadata": {
    "colab": {
      "provenance": [],
      "authorship_tag": "ABX9TyNw2m8muHz3BYWoGiD6Oi6z",
      "include_colab_link": true
    },
    "kernelspec": {
      "name": "python3",
      "display_name": "Python 3"
    },
    "language_info": {
      "name": "python"
    }
  },
  "cells": [
    {
      "cell_type": "markdown",
      "metadata": {
        "id": "view-in-github",
        "colab_type": "text"
      },
      "source": [
        "<a href=\"https://colab.research.google.com/github/leeCodingStudio/Python_machine_learning/blob/master/21_RNN_%EA%B8%B0%EC%B4%88.ipynb\" target=\"_parent\"><img src=\"https://colab.research.google.com/assets/colab-badge.svg\" alt=\"Open In Colab\"/></a>"
      ]
    },
    {
      "cell_type": "markdown",
      "source": [
        "# 1. 순환 신경망(Recurrent Neural Network)\n",
        "* 입력과 출력을 시퀀스 단위로 처리하는 시퀀스 모델\n",
        "* 시퀀스: 번역하고자 하는 단어의 문장\n",
        "* 연속적인 데이터를 NN에 하나씩 순차적으로 넣어 처리하는 모델"
      ],
      "metadata": {
        "id": "97pzhYOmmIEZ"
      }
    },
    {
      "cell_type": "markdown",
      "source": [
        "### 1-1. RNN 동작 방식\n",
        "* 은닉층의 노드에서 활성화 함수를 통해 나온 결과값을 다시 출력층 방향으로 보내면서 은닉층 노드의 다음 계산의 입력으로 보내는 특징\n",
        "* 셀(cell): 은닉층에서 활성화 함수를 통해 결과를 내보내는 역할을 하는 노드, 이전의 값을 기억하려고 하는 일종의 메모리 역할을 수행\n",
        "* 은닉 상태(hidden state): 셀이 출력층 방향 또는 다음 시점인 t+1의 자신에게 보내는 값"
      ],
      "metadata": {
        "id": "kdjotWqKvUPv"
      }
    },
    {
      "cell_type": "markdown",
      "source": [
        "### 1-2. RNN의 유형\n",
        "* One to Many\n",
        "* Many to One\n",
        "* Many to Many"
      ],
      "metadata": {
        "id": "Et0ZgwEkxAsl"
      }
    },
    {
      "cell_type": "markdown",
      "source": [
        "### 1-3. RNN의 단점\n",
        "* 입력과 출력이 고정\n",
        "* 기울기 소실\n",
        "* 단점을 극복하기 위해 RNN의 발전 형태인 LSTM과 GRU를 사용(문제를 완벽히 해결하지 못함)"
      ],
      "metadata": {
        "id": "cjicygGxzxMf"
      }
    },
    {
      "cell_type": "code",
      "source": [],
      "metadata": {
        "id": "i4U2Y9T_AZ8x"
      },
      "execution_count": null,
      "outputs": []
    }
  ]
}