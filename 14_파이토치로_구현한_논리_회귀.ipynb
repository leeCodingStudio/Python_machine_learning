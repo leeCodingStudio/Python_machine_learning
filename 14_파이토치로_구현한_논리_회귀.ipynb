{
  "nbformat": 4,
  "nbformat_minor": 0,
  "metadata": {
    "colab": {
      "provenance": [],
      "authorship_tag": "ABX9TyOhYu3/sayRjukSPfdWf57B",
      "include_colab_link": true
    },
    "kernelspec": {
      "name": "python3",
      "display_name": "Python 3"
    },
    "language_info": {
      "name": "python"
    }
  },
  "cells": [
    {
      "cell_type": "markdown",
      "metadata": {
        "id": "view-in-github",
        "colab_type": "text"
      },
      "source": [
        "<a href=\"https://colab.research.google.com/github/leeCodingStudio/Python_machine_learning/blob/master/14_%ED%8C%8C%EC%9D%B4%ED%86%A0%EC%B9%98%EB%A1%9C_%EA%B5%AC%ED%98%84%ED%95%9C_%EB%85%BC%EB%A6%AC_%ED%9A%8C%EA%B7%80.ipynb\" target=\"_parent\"><img src=\"https://colab.research.google.com/assets/colab-badge.svg\" alt=\"Open In Colab\"/></a>"
      ]
    },
    {
      "cell_type": "markdown",
      "source": [
        "# 1. 단항 논리 회귀 실습\n",
        "* 논리 회귀(Logistic Regression)\n",
        "* 분류를 할 때 사용하며 선형 회귀 공식으로부터 나왔기 때문에 논리 회귀라는 이름이 붙여짐\n",
        "\n",
        "![](https://i.imgur.com/nE29yVL.png)\n",
        "> 직선 하나(선형 회귀)를 사용해서 예측한다면 제대로 예측할 수 없음\n",
        "\n",
        "![](https://i.imgur.com/guvMfkf.png)\n",
        "> Sigmoid 함수(Logistic 함수)를 사용하여 정확도를 높임\n",
        "\n",
        "### Sigmoid 함수\n",
        "- 예측값을 0에서 1사이 값이 되도록 만듬\n",
        "* 0에서 1사이의 연속된 값을 출력으로 하기 때문에 보통 0.5를 기준으로 구분"
      ],
      "metadata": {
        "id": "GVy-evLzeKzS"
      }
    },
    {
      "cell_type": "code",
      "source": [
        "import torch\n",
        "import torch.nn as nn\n",
        "import torch.optim as optim\n",
        "import matplotlib.pyplot as plt\n",
        "\n",
        "torch.manual_seed(10)"
      ],
      "metadata": {
        "colab": {
          "base_uri": "https://localhost:8080/"
        },
        "id": "fh0vWPaYiHNR",
        "outputId": "ee824fe4-0f10-4917-d4e0-ff8b6c1b3ce0"
      },
      "execution_count": 3,
      "outputs": [
        {
          "output_type": "execute_result",
          "data": {
            "text/plain": [
              "<torch._C.Generator at 0x7f8131bbcbf0>"
            ]
          },
          "metadata": {},
          "execution_count": 3
        }
      ]
    },
    {
      "cell_type": "code",
      "source": [
        "x_train = torch.FloatTensor([[0], [1], [3], [5], [9], [11], [15], [20]])\n",
        "y_train = torch.FloatTensor([[0], [0], [0], [0], [0], [1], [1], [1]])\n",
        "\n",
        "print(x_train.shape)\n",
        "print(y_train.shape)"
      ],
      "metadata": {
        "colab": {
          "base_uri": "https://localhost:8080/"
        },
        "id": "1HscodHSiHQJ",
        "outputId": "ec079d28-c4ab-41f9-fcfc-53255a0bed14"
      },
      "execution_count": 4,
      "outputs": [
        {
          "output_type": "stream",
          "name": "stdout",
          "text": [
            "torch.Size([8, 1])\n",
            "torch.Size([8, 1])\n"
          ]
        }
      ]
    },
    {
      "cell_type": "code",
      "source": [
        "plt.figure(figsize=(8, 5))\n",
        "plt.scatter(x_train, y_train)"
      ],
      "metadata": {
        "colab": {
          "base_uri": "https://localhost:8080/",
          "height": 463
        },
        "id": "wmhVbYcbiHSp",
        "outputId": "b5554d59-db17-406e-b480-5618c556f5b1"
      },
      "execution_count": 5,
      "outputs": [
        {
          "output_type": "execute_result",
          "data": {
            "text/plain": [
              "<matplotlib.collections.PathCollection at 0x7f814f5c90c0>"
            ]
          },
          "metadata": {},
          "execution_count": 5
        },
        {
          "output_type": "display_data",
          "data": {
            "text/plain": [
              "<Figure size 800x500 with 1 Axes>"
            ],
            "image/png": "[encoded data removed]"
          },
          "metadata": {}
        }
      ]
    },
    {
      "cell_type": "markdown",
      "source": [
        "![](https://i.imgur.com/6NsfKMa.png)"
      ],
      "metadata": {
        "id": "rd74yA5xiCoh"
      }
    },
    {
      "cell_type": "code",
      "source": [
        "model = nn.Sequential(\n",
        "    nn.Linear(1, 1),\n",
        "    nn.Sigmoid()\n",
        ")\n",
        "\n",
        "print(model)"
      ],
      "metadata": {
        "colab": {
          "base_uri": "https://localhost:8080/"
        },
        "id": "kFgiKj0heYEG",
        "outputId": "0767522e-4699-4d41-ea02-39185dc8ce4d"
      },
      "execution_count": 7,
      "outputs": [
        {
          "output_type": "stream",
          "name": "stdout",
          "text": [
            "Sequential(\n",
            "  (0): Linear(in_features=1, out_features=1, bias=True)\n",
            "  (1): Sigmoid()\n",
            ")\n"
          ]
        }
      ]
    },
    {
      "cell_type": "code",
      "source": [
        "print(list(model.parameters()))"
      ],
      "metadata": {
        "colab": {
          "base_uri": "https://localhost:8080/"
        },
        "id": "dJMeA2pvjXDM",
        "outputId": "0a3a35a6-6bef-46c5-fc22-02c8c745e098"
      },
      "execution_count": 8,
      "outputs": [
        {
          "output_type": "stream",
          "name": "stdout",
          "text": [
            "[Parameter containing:\n",
            "tensor([[-0.0838]], requires_grad=True), Parameter containing:\n",
            "tensor([-0.0343], requires_grad=True)]\n"
          ]
        }
      ]
    },
    {
      "cell_type": "markdown",
      "source": [
        "### 비용 함수\n",
        "* 논리 회귀에서는 nn.BCELoss() 함수를 사용하여 Loss를 계산\n",
        "* Binary Cross Entropy\n",
        "\n",
        "<img src=\"https://i.imgur.com/tvCuEmh.png\" width=\"600px\">"
      ],
      "metadata": {
        "id": "0s8IB5ozjyWU"
      }
    },
    {
      "cell_type": "code",
      "source": [
        "y_pred = model(x_train)\n",
        "y_pred"
      ],
      "metadata": {
        "colab": {
          "base_uri": "https://localhost:8080/"
        },
        "id": "UYYvoAFnkQ55",
        "outputId": "72a2426b-b4f8-4da0-dc5d-de42b782583f"
      },
      "execution_count": 9,
      "outputs": [
        {
          "output_type": "execute_result",
          "data": {
            "text/plain": [
              "tensor([[0.4914],\n",
              "        [0.4705],\n",
              "        [0.4290],\n",
              "        [0.3885],\n",
              "        [0.3124],\n",
              "        [0.2776],\n",
              "        [0.2156],\n",
              "        [0.1530]], grad_fn=<SigmoidBackward0>)"
            ]
          },
          "metadata": {},
          "execution_count": 9
        }
      ]
    },
    {
      "cell_type": "code",
      "source": [
        "loss = nn.BCELoss()(y_pred, y_train)\n",
        "loss"
      ],
      "metadata": {
        "colab": {
          "base_uri": "https://localhost:8080/"
        },
        "id": "CMlU1ombkisi",
        "outputId": "f8fadf00-eaf9-43a5-e775-40faea692294"
      },
      "execution_count": 10,
      "outputs": [
        {
          "output_type": "execute_result",
          "data": {
            "text/plain": [
              "tensor(0.9290, grad_fn=<BinaryCrossEntropyBackward0>)"
            ]
          },
          "metadata": {},
          "execution_count": 10
        }
      ]
    },
    {
      "cell_type": "code",
      "source": [
        "optimizer = optim.SGD(model.parameters(), lr=0.01)"
      ],
      "metadata": {
        "id": "kgoNwrSFkwk6"
      },
      "execution_count": 11,
      "outputs": []
    },
    {
      "cell_type": "code",
      "source": [
        "epochs = 1000\n",
        "\n",
        "for epoch in range(epochs + 1):\n",
        "    y_pred = model(x_train)\n",
        "    loss = nn.BCELoss()(y_pred, y_train)\n",
        "    optimizer.zero_grad()\n",
        "    loss.backward()\n",
        "    optimizer.step()\n",
        "\n",
        "    if epoch % 100 == 0:\n",
        "        print(f'Epoch {epoch}/{epoch} Loss: {loss:.6f}')"
      ],
      "metadata": {
        "colab": {
          "base_uri": "https://localhost:8080/"
        },
        "id": "dvBuJ5zGk3KD",
        "outputId": "718cd8f3-b547-4153-fd9c-d0569a679bd0"
      },
      "execution_count": 12,
      "outputs": [
        {
          "output_type": "stream",
          "name": "stdout",
          "text": [
            "Epoch 0/0 Loss: 0.929007\n",
            "Epoch 100/100 Loss: 0.568484\n",
            "Epoch 200/200 Loss: 0.519625\n",
            "Epoch 300/300 Loss: 0.479047\n",
            "Epoch 400/400 Loss: 0.445106\n",
            "Epoch 500/500 Loss: 0.416481\n",
            "Epoch 600/600 Loss: 0.392129\n",
            "Epoch 700/700 Loss: 0.371230\n",
            "Epoch 800/800 Loss: 0.353142\n",
            "Epoch 900/900 Loss: 0.337362\n",
            "Epoch 1000/1000 Loss: 0.323490\n"
          ]
        }
      ]
    },
    {
      "cell_type": "code",
      "source": [
        "print(list(model.parameters()))"
      ],
      "metadata": {
        "colab": {
          "base_uri": "https://localhost:8080/"
        },
        "id": "I408eGoplC4x",
        "outputId": "762ce6be-5b35-4674-e1e6-1ef009abcd0b"
      },
      "execution_count": 13,
      "outputs": [
        {
          "output_type": "stream",
          "name": "stdout",
          "text": [
            "[Parameter containing:\n",
            "tensor([[0.2162]], requires_grad=True), Parameter containing:\n",
            "tensor([-1.7147], requires_grad=True)]\n"
          ]
        }
      ]
    },
    {
      "cell_type": "code",
      "source": [
        "x_test = torch.FloatTensor([[2.5], [15.5]])\n",
        "y_pred = model(x_test)\n",
        "print(y_pred)"
      ],
      "metadata": {
        "colab": {
          "base_uri": "https://localhost:8080/"
        },
        "id": "ogznG_00lTuj",
        "outputId": "dddf479d-2c44-43d5-e348-424f510e0b1b"
      },
      "execution_count": 14,
      "outputs": [
        {
          "output_type": "stream",
          "name": "stdout",
          "text": [
            "tensor([[0.2361],\n",
            "        [0.8371]], grad_fn=<SigmoidBackward0>)\n"
          ]
        }
      ]
    },
    {
      "cell_type": "code",
      "source": [
        "# 임계치 설정하기\n",
        "# 0.5보다 크거나 같으면 1\n",
        "# 0.5보다 작으면 0\n",
        "y_bool = (y_pred >= 0.5).float()\n",
        "print(y_bool)"
      ],
      "metadata": {
        "colab": {
          "base_uri": "https://localhost:8080/"
        },
        "id": "huilPrwRlbeH",
        "outputId": "49704f10-580e-46e9-d337-045c59fcb9cb"
      },
      "execution_count": 16,
      "outputs": [
        {
          "output_type": "stream",
          "name": "stdout",
          "text": [
            "tensor([[0.],\n",
            "        [1.]])\n"
          ]
        }
      ]
    },
    {
      "cell_type": "markdown",
      "source": [
        "# 2. 다항 논리 회귀 실습"
      ],
      "metadata": {
        "id": "lNIV5yDKlvUo"
      }
    },
    {
      "cell_type": "code",
      "source": [
        "x_train = [[1, 2, 1, 1],\n",
        "           [2, 1, 3, 2],\n",
        "           [3, 1, 3, 4],\n",
        "           [4, 1, 5, 5],\n",
        "           [1, 7, 5, 5],\n",
        "           [1, 2, 5, 6],\n",
        "           [1, 6, 6, 6],\n",
        "           [1, 7, 7, 7]]\n",
        "\n",
        "y_train = [0, 0, 0, 1, 1, 1, 2, 2]\n",
        "\n",
        "x_train = torch.FloatTensor(x_train)\n",
        "y_train = torch.LongTensor(y_train)\n",
        "print(x_train.shape)\n",
        "print(y_train.shape)"
      ],
      "metadata": {
        "colab": {
          "base_uri": "https://localhost:8080/"
        },
        "id": "dLAL52FJl7o9",
        "outputId": "d37e869b-a315-46e8-c102-b1ecc1e13b93"
      },
      "execution_count": 25,
      "outputs": [
        {
          "output_type": "stream",
          "name": "stdout",
          "text": [
            "torch.Size([8, 4])\n",
            "torch.Size([8])\n"
          ]
        }
      ]
    },
    {
      "cell_type": "code",
      "source": [
        "model = nn.Sequential(\n",
        "    nn.Linear(4, 3)\n",
        ")\n",
        "\n",
        "print(model)"
      ],
      "metadata": {
        "colab": {
          "base_uri": "https://localhost:8080/"
        },
        "id": "es5Et4AymmLG",
        "outputId": "0e7e0fa3-8859-48f3-e223-2b0bc93d1eb2"
      },
      "execution_count": 26,
      "outputs": [
        {
          "output_type": "stream",
          "name": "stdout",
          "text": [
            "Sequential(\n",
            "  (0): Linear(in_features=4, out_features=3, bias=True)\n",
            ")\n"
          ]
        }
      ]
    },
    {
      "cell_type": "code",
      "source": [
        "y_pred = model(x_train)\n",
        "print(y_pred)"
      ],
      "metadata": {
        "colab": {
          "base_uri": "https://localhost:8080/"
        },
        "id": "Nc3wfLXGnUxC",
        "outputId": "272bac37-3f87-4d1f-9578-92c33e68c605"
      },
      "execution_count": 27,
      "outputs": [
        {
          "output_type": "stream",
          "name": "stdout",
          "text": [
            "tensor([[ 0.6272,  0.9446,  1.0174],\n",
            "        [ 0.8912,  2.4454,  0.6555],\n",
            "        [ 0.6075,  3.2021,  0.7560],\n",
            "        [ 1.0409,  4.6684,  0.7930],\n",
            "        [ 1.2494,  3.1110,  2.0120],\n",
            "        [ 0.1258,  3.4367, -0.1276],\n",
            "        [ 1.0237,  3.7302,  1.3633],\n",
            "        [ 1.1369,  4.2804,  1.5123]], grad_fn=<AddmmBackward0>)\n"
          ]
        }
      ]
    },
    {
      "cell_type": "code",
      "source": [
        "# 다항 논리 회귀에서는 BCELoss() 대신 CrossEntropyLoss()를 사용\n",
        "# 소프트맥스 함수가 포함\n",
        "loss = nn.CrossEntropyLoss()(y_pred, y_train)\n",
        "print(loss)"
      ],
      "metadata": {
        "colab": {
          "base_uri": "https://localhost:8080/"
        },
        "id": "4Y_m2lANneFe",
        "outputId": "9e3fb6e7-f6e8-4efd-cdf1-0a00426b8794"
      },
      "execution_count": 28,
      "outputs": [
        {
          "output_type": "stream",
          "name": "stdout",
          "text": [
            "tensor(1.4824, grad_fn=<NllLossBackward0>)\n"
          ]
        }
      ]
    },
    {
      "cell_type": "code",
      "source": [
        "optimizer = optim.SGD(model.parameters(), lr=0.1)"
      ],
      "metadata": {
        "id": "aGja2tYFoHZ8"
      },
      "execution_count": 29,
      "outputs": []
    },
    {
      "cell_type": "code",
      "source": [
        "epochs = 1000\n",
        "\n",
        "for epoch in range(epochs + 1):\n",
        "    y_pred = model(x_train)\n",
        "    loss = nn.CrossEntropyLoss()(y_pred, y_train)\n",
        "    optimizer.zero_grad()\n",
        "    loss.backward()\n",
        "    optimizer.step()\n",
        "\n",
        "    if epoch % 100 == 0:\n",
        "        print(f'Epoch {epoch}/{epoch} Loss: {loss:.6f}')"
      ],
      "metadata": {
        "colab": {
          "base_uri": "https://localhost:8080/"
        },
        "id": "h43CRE1HpUMr",
        "outputId": "3135e7d6-753b-44d4-8615-4c6f28a257c4"
      },
      "execution_count": 30,
      "outputs": [
        {
          "output_type": "stream",
          "name": "stdout",
          "text": [
            "Epoch 0/0 Loss: 1.482371\n",
            "Epoch 100/100 Loss: 0.660156\n",
            "Epoch 200/200 Loss: 0.574858\n",
            "Epoch 300/300 Loss: 0.519700\n",
            "Epoch 400/400 Loss: 0.474909\n",
            "Epoch 500/500 Loss: 0.435243\n",
            "Epoch 600/600 Loss: 0.398384\n",
            "Epoch 700/700 Loss: 0.362854\n",
            "Epoch 800/800 Loss: 0.327482\n",
            "Epoch 900/900 Loss: 0.291415\n",
            "Epoch 1000/1000 Loss: 0.256054\n"
          ]
        }
      ]
    },
    {
      "cell_type": "code",
      "source": [
        "x_test = torch.FloatTensor([[1, 2, 5, 6]])\n",
        "y_pred = model(x_test)\n",
        "print(y_pred)"
      ],
      "metadata": {
        "colab": {
          "base_uri": "https://localhost:8080/"
        },
        "id": "1AaEh-FrpamW",
        "outputId": "9c7a43d6-713a-4a48-fcda-459047f26ef4"
      },
      "execution_count": 31,
      "outputs": [
        {
          "output_type": "stream",
          "name": "stdout",
          "text": [
            "tensor([[-3.9068,  4.2237,  3.1180]], grad_fn=<AddmmBackward0>)\n"
          ]
        }
      ]
    },
    {
      "cell_type": "code",
      "source": [
        "# 예측값과 확률 구하기\n",
        "y_prob = nn.Softmax(1)(y_pred)\n",
        "y_prob"
      ],
      "metadata": {
        "colab": {
          "base_uri": "https://localhost:8080/"
        },
        "id": "_4pdtI4gpquU",
        "outputId": "6ec12dda-5206-4124-90fc-e54ce9a0280f"
      },
      "execution_count": 34,
      "outputs": [
        {
          "output_type": "execute_result",
          "data": {
            "text/plain": [
              "tensor([[2.2115e-04, 7.5116e-01, 2.4862e-01]], grad_fn=<SoftmaxBackward0>)"
            ]
          },
          "metadata": {},
          "execution_count": 34
        }
      ]
    },
    {
      "cell_type": "code",
      "source": [
        "print(f'0일 확률: {y_prob[0][0]:.2f}')\n",
        "print(f'1일 확률: {y_prob[0][1]:.2f}')\n",
        "print(f'2일 확률: {y_prob[0][2]:.2f}')"
      ],
      "metadata": {
        "colab": {
          "base_uri": "https://localhost:8080/"
        },
        "id": "4dmfAS6oqGLi",
        "outputId": "17602341-e440-448c-ff41-1a9dc4df2768"
      },
      "execution_count": 35,
      "outputs": [
        {
          "output_type": "stream",
          "name": "stdout",
          "text": [
            "0일 확률: 0.00\n",
            "1일 확률: 0.75\n",
            "2일 확률: 0.25\n"
          ]
        }
      ]
    },
    {
      "cell_type": "code",
      "source": [
        "torch.argmax(y_prob, axis=1)"
      ],
      "metadata": {
        "colab": {
          "base_uri": "https://localhost:8080/"
        },
        "id": "0FmngZHsqTiZ",
        "outputId": "f63b0958-0118-4307-ee54-8034e62f5886"
      },
      "execution_count": 36,
      "outputs": [
        {
          "output_type": "execute_result",
          "data": {
            "text/plain": [
              "tensor([1])"
            ]
          },
          "metadata": {},
          "execution_count": 36
        }
      ]
    }
  ]
}