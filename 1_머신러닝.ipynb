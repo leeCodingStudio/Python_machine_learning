{
  "nbformat": 4,
  "nbformat_minor": 0,
  "metadata": {
    "colab": {
      "provenance": [],
      "authorship_tag": "ABX9TyND8rLb2H32zKrWeP4B/fg0",
      "include_colab_link": true
    },
    "kernelspec": {
      "name": "python3",
      "display_name": "Python 3"
    },
    "language_info": {
      "name": "python"
    }
  },
  "cells": [
    {
      "cell_type": "markdown",
      "metadata": {
        "id": "view-in-github",
        "colab_type": "text"
      },
      "source": [
        "<a href=\"https://colab.research.google.com/github/leeCodingStudio/Python_machine_learning/blob/master/1_%EB%A8%B8%EC%8B%A0%EB%9F%AC%EB%8B%9D.ipynb\" target=\"_parent\"><img src=\"https://colab.research.google.com/assets/colab-badge.svg\" alt=\"Open In Colab\"/></a>"
      ]
    },
    {
      "cell_type": "markdown",
      "source": [
        "# 1. 머신러닝\n",
        "* 인공지능: 인공(Artificial) + 지능(Intelligence)\n",
        "    * 개발자에 의한 인동지능, 데이터에 의한 인공지능\n",
        "* 머신러닝: 데이터를 기반으로 학습(learning)하는 기계(machine)\n",
        "* 딥러닝: 깊은(deep) 신경망 구조의 머신러닝"
      ],
      "metadata": {
        "id": "YGZUw4FtYnmz"
      }
    },
    {
      "cell_type": "markdown",
      "source": [
        "### 1-1. 배경\n",
        "* 과거 컴퓨터로 데이터를 읽어들이고, 데이터 안에서 특징을 학습하여 패턴을 찾아내는 작업 -> 패턴인식\n",
        "* 데이터를 대향으로 수집 처리 할 수 있는 환경이 갖춰짐으로 할 수 있는 일들이 많아짐\n",
        "* 머신러닝은 데이터로부터 특징이나 패턴을 찾아내는 것이기 때문에 데이터가 가장 중요함"
      ],
      "metadata": {
        "id": "e45FeleuawY1"
      }
    },
    {
      "cell_type": "markdown",
      "source": [
        "### 1-2. 정의\n",
        "* 인공지능의 한 분야로 컴퓨터가 학습할 수 있도록 하는 알고리즘과 기술을 개발하는 분야\n",
        "* \"무엇(x)으로 무엇(y)을 예측하고 싶다\"의 f(함수)를 찾아내는 것\n",
        "* y:출력변수(종속변수), x:입력변수(독립변수), f:모형(머신러닝 알고리즘)"
      ],
      "metadata": {
        "id": "6Wa_XiLmb6WI"
      }
    },
    {
      "cell_type": "markdown",
      "source": [
        "# 2. 머신러닝으로 할 수 있는 것"
      ],
      "metadata": {
        "id": "oA8-XIgSeWjD"
      }
    },
    {
      "cell_type": "markdown",
      "source": [
        "### 2-1. 회귀(Regression)\n",
        "* 시계열(시간적인 변화를 연속적으로 관측한 데이터) 데이터 같은 연속된 데이터를 취급할 때 사용하는 기법\n",
        "* 예) 과거 주식 주세를 학습해서 내일의 주가를 예측하는 시스템을 개발"
      ],
      "metadata": {
        "id": "RQ_n_pdljpkX"
      }
    },
    {
      "cell_type": "markdown",
      "source": [
        "### 2-2. 분류(Classification)\n",
        "* 주어진 데이터를 클래스별로 구별해 내는 과정으로 데이터와 데이터의 레이블값을 학습시키고 어느 범주에 속한 데이터인지 판단하고 예측\n",
        "* 예) 스팸메일인지 아닌지 구별해주는 시스템을 개발"
      ],
      "metadata": {
        "id": "GBZ11gy9kPzB"
      }
    },
    {
      "cell_type": "markdown",
      "source": [
        "### 2-3. 클러스터링(Clustering)\n",
        "* 분류와 비슷하지만 데이터에 레이블(정답 데이터)이 없음\n",
        "* 유사한 속성들을 갖는 데이터를 일정한 수의 군집으로 그룹핑하는 비지도 학습\n",
        "* 예) SNS 데이터를 통해 소셜 및 사회 이슈를 파악"
      ],
      "metadata": {
        "id": "cpz4e-ZalUPt"
      }
    },
    {
      "cell_type": "markdown",
      "source": [
        "# 3. 학습"
      ],
      "metadata": {
        "id": "E4988mjXmmmO"
      }
    },
    {
      "cell_type": "markdown",
      "source": [
        "### 3-1. 지도 학습\n",
        "* 문제와 정답을 모두 학습시켜 예측 또는 분류하는 문제\n",
        "* y=f(x)에 대하여 입력 변수(x)와 출력 변수(y)의 관계에 대하여 모델링 하는 것\n",
        "* y에 대하여 예측 또는 분류하는 문제"
      ],
      "metadata": {
        "id": "tzhmEoWvnq74"
      }
    },
    {
      "cell_type": "markdown",
      "source": [
        "### 3-2. 비지도 학습\n",
        "* 출력 변수(y)가 존재하지 않고, 입력 변수(x)간의 관계에 대해 모델링 하는 것\n",
        "* 군집분석: 유사한 데이터끼리 그룹화\n",
        "* PCA: 독립변수들의 차원을 축소화"
      ],
      "metadata": {
        "id": "ep963c4mn55B"
      }
    },
    {
      "cell_type": "markdown",
      "source": [
        "### 3-3. 강화 학습\n",
        "* 수 많은 시뮬레이션을 통해 현재의 선택이 미래에 보상이 최대가 되도록 학습"
      ],
      "metadata": {
        "id": "JGZImlXgoLKh"
      }
    }
  ]
}