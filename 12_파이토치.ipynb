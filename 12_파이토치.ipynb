{
  "nbformat": 4,
  "nbformat_minor": 0,
  "metadata": {
    "colab": {
      "provenance": [],
      "gpuType": "T4",
      "authorship_tag": "ABX9TyM5JqLzehpXEDy3lwi88Hf3",
      "include_colab_link": true
    },
    "kernelspec": {
      "name": "python3",
      "display_name": "Python 3"
    },
    "language_info": {
      "name": "python"
    },
    "accelerator": "GPU"
  },
  "cells": [
    {
      "cell_type": "markdown",
      "metadata": {
        "id": "view-in-github",
        "colab_type": "text"
      },
      "source": [
        "<a href=\"https://colab.research.google.com/github/leeCodingStudio/Python_machine_learning/blob/master/12_%ED%8C%8C%EC%9D%B4%ED%86%A0%EC%B9%98.ipynb\" target=\"_parent\"><img src=\"https://colab.research.google.com/assets/colab-badge.svg\" alt=\"Open In Colab\"/></a>"
      ]
    },
    {
      "cell_type": "markdown",
      "source": [
        "# 1. 파이토치(Pytorch)\n",
        "* 텐서플로우와 함께 머신러닝, 딥러닝에서 가장 널리 사용되는 프레임워크\n",
        "* 초기에는 Torch라는 이름으로 Lua언어 기반으로 만들어졌으나, 파이썬 기반으로 변경한 것이 Pytorch\n",
        "* 뉴욕대학교와 페이스북이 공동으로 개발하였고, 현재 가장 대중적이고 널리 사용됨"
      ],
      "metadata": {
        "id": "YdObApgjZTaL"
      }
    },
    {
      "cell_type": "code",
      "source": [
        "import torch\n",
        "print(torch.__version__)"
      ],
      "metadata": {
        "colab": {
          "base_uri": "https://localhost:8080/"
        },
        "id": "qvSaIwQ7Zyc_",
        "outputId": "5022a7d8-2fb1-47b9-89cb-052d66e6b30b"
      },
      "execution_count": 1,
      "outputs": [
        {
          "output_type": "stream",
          "name": "stdout",
          "text": [
            "2.0.1+cu118\n"
          ]
        }
      ]
    },
    {
      "cell_type": "markdown",
      "source": [
        "### 1-1. 스칼라(Scalar)\n",
        "* 하나의 상수를 의미"
      ],
      "metadata": {
        "id": "bec5xihSaNy7"
      }
    },
    {
      "cell_type": "code",
      "source": [
        "var1 = torch.tensor([1])"
      ],
      "metadata": {
        "id": "VMdQTFnMa3zx"
      },
      "execution_count": 2,
      "outputs": []
    },
    {
      "cell_type": "code",
      "source": [
        "type(var1)"
      ],
      "metadata": {
        "colab": {
          "base_uri": "https://localhost:8080/"
        },
        "id": "MNzrVx0ma_Ne",
        "outputId": "47d1ca7f-f17d-42ba-9911-e7a94186f069"
      },
      "execution_count": 3,
      "outputs": [
        {
          "output_type": "execute_result",
          "data": {
            "text/plain": [
              "torch.Tensor"
            ]
          },
          "metadata": {},
          "execution_count": 3
        }
      ]
    },
    {
      "cell_type": "code",
      "source": [
        "var2 = torch.tensor([6.5])"
      ],
      "metadata": {
        "id": "94WNmFKRbFlH"
      },
      "execution_count": 4,
      "outputs": []
    },
    {
      "cell_type": "code",
      "source": [
        "# 두 스칼라의 사칙 연산\n",
        "print(var1 + var2)\n",
        "print(var1 - var2)\n",
        "print(var1 * var2)\n",
        "print(var1 / var2)"
      ],
      "metadata": {
        "colab": {
          "base_uri": "https://localhost:8080/"
        },
        "id": "QlPvdI50bRzp",
        "outputId": "9756c4a6-cb74-436a-ae74-3379c4c7f4e2"
      },
      "execution_count": 5,
      "outputs": [
        {
          "output_type": "stream",
          "name": "stdout",
          "text": [
            "tensor([7.5000])\n",
            "tensor([-5.5000])\n",
            "tensor([6.5000])\n",
            "tensor([0.1538])\n"
          ]
        }
      ]
    },
    {
      "cell_type": "markdown",
      "source": [
        "### 1-2. 벡터(Vector)\n",
        "* 상수가 두 개 이상 나열되었을 경우"
      ],
      "metadata": {
        "id": "X_wpk7OEbS2g"
      }
    },
    {
      "cell_type": "code",
      "source": [
        "vector1 = torch.tensor([1, 2, 3])\n",
        "vector1"
      ],
      "metadata": {
        "colab": {
          "base_uri": "https://localhost:8080/"
        },
        "id": "BmFjZBKHb5sI",
        "outputId": "3207a377-c219-4dcc-ada0-984708a49496"
      },
      "execution_count": 6,
      "outputs": [
        {
          "output_type": "execute_result",
          "data": {
            "text/plain": [
              "tensor([1, 2, 3])"
            ]
          },
          "metadata": {},
          "execution_count": 6
        }
      ]
    },
    {
      "cell_type": "code",
      "source": [
        "vector2 = torch.tensor([10, 20, 30])"
      ],
      "metadata": {
        "id": "rKBGtIYIb9bv"
      },
      "execution_count": 7,
      "outputs": []
    },
    {
      "cell_type": "code",
      "source": [
        "# 두 벡터의 사칙 연산\n",
        "print(vector1 + vector2)\n",
        "print(vector1 - vector2)\n",
        "print(vector1 * vector2)\n",
        "print(vector1 / vector2)"
      ],
      "metadata": {
        "colab": {
          "base_uri": "https://localhost:8080/"
        },
        "id": "WK896lN1cVDH",
        "outputId": "3db4f562-f37f-42aa-d8aa-3da5322868a0"
      },
      "execution_count": 8,
      "outputs": [
        {
          "output_type": "stream",
          "name": "stdout",
          "text": [
            "tensor([11, 22, 33])\n",
            "tensor([ -9, -18, -27])\n",
            "tensor([10, 40, 90])\n",
            "tensor([0.1000, 0.1000, 0.1000])\n"
          ]
        }
      ]
    },
    {
      "cell_type": "markdown",
      "source": [
        "### 1-3. 행렬(Matrix)\n",
        "* 2개 이상의 벡터 값을 가지고 만들어진 값으로 행과 열의 개념을 가진 숫자의 나열"
      ],
      "metadata": {
        "id": "snFCRhCucb7L"
      }
    },
    {
      "cell_type": "code",
      "source": [
        "matrix1 = torch.tensor([[1, 2], [3, 4]])\n",
        "print(matrix1)"
      ],
      "metadata": {
        "colab": {
          "base_uri": "https://localhost:8080/"
        },
        "id": "VZe1isfYcy1O",
        "outputId": "6946fb90-6949-4182-e315-1bc09f118117"
      },
      "execution_count": 9,
      "outputs": [
        {
          "output_type": "stream",
          "name": "stdout",
          "text": [
            "tensor([[1, 2],\n",
            "        [3, 4]])\n"
          ]
        }
      ]
    },
    {
      "cell_type": "code",
      "source": [
        "matrix2 = torch.tensor([[7, 8], [9, 10]])\n",
        "print(matrix2)"
      ],
      "metadata": {
        "colab": {
          "base_uri": "https://localhost:8080/"
        },
        "id": "G9dF8giuc58W",
        "outputId": "98b010e4-1404-418f-fc83-a8af09d76ec9"
      },
      "execution_count": 10,
      "outputs": [
        {
          "output_type": "stream",
          "name": "stdout",
          "text": [
            "tensor([[ 7,  8],\n",
            "        [ 9, 10]])\n"
          ]
        }
      ]
    },
    {
      "cell_type": "code",
      "source": [
        "# 두 행렬의 사칙 연산\n",
        "print(matrix1 + matrix2)\n",
        "print(matrix1 - matrix2)\n",
        "print(matrix1 * matrix2)\n",
        "print(matrix1 / matrix2)"
      ],
      "metadata": {
        "colab": {
          "base_uri": "https://localhost:8080/"
        },
        "id": "MPvpO9ZodGgj",
        "outputId": "60bc64bd-b020-4363-c3a8-c8b4ffed859d"
      },
      "execution_count": 11,
      "outputs": [
        {
          "output_type": "stream",
          "name": "stdout",
          "text": [
            "tensor([[ 8, 10],\n",
            "        [12, 14]])\n",
            "tensor([[-6, -6],\n",
            "        [-6, -6]])\n",
            "tensor([[ 7, 16],\n",
            "        [27, 40]])\n",
            "tensor([[0.1429, 0.2500],\n",
            "        [0.3333, 0.4000]])\n"
          ]
        }
      ]
    },
    {
      "cell_type": "markdown",
      "source": [
        "### 1-4. 텐서(Tensor)\n",
        "* 다수의 행렬이 모이면 텐서라고 부름\n",
        "* 배열이나 행렬과 매우 유사한 특수 자료구조\n",
        "* 파이토치는 텐서를 사용하여 모델의 입력과 출력, 모델의 매개변수들을 처리 사용됨"
      ],
      "metadata": {
        "id": "1aLq60O0dMvy"
      }
    },
    {
      "cell_type": "code",
      "source": [
        "from IPython.display import Image\n",
        "Image(url='https://miro.medium.com/max/875/1*jRyyMAhS_NZxqyv3EoLCvg.png')"
      ],
      "metadata": {
        "colab": {
          "base_uri": "https://localhost:8080/",
          "height": 497
        },
        "id": "c-WZiwCmdufw",
        "outputId": "a13ae16f-b262-43bc-c89e-9ea867ef5f4f"
      },
      "execution_count": 12,
      "outputs": [
        {
          "output_type": "execute_result",
          "data": {
            "text/html": [
              "<img src=\"https://miro.medium.com/max/875/1*jRyyMAhS_NZxqyv3EoLCvg.png\"/>"
            ],
            "text/plain": [
              "<IPython.core.display.Image object>"
            ]
          },
          "metadata": {},
          "execution_count": 12
        }
      ]
    },
    {
      "cell_type": "code",
      "source": [
        "tensor1 = torch.tensor([[[1, 2], [3, 4]], [[5, 6], [7, 8]]])\n",
        "print(tensor1)"
      ],
      "metadata": {
        "colab": {
          "base_uri": "https://localhost:8080/"
        },
        "id": "svfo2HOed91Z",
        "outputId": "1937cdef-93ab-4a5b-ede6-7624d7e8ef4c"
      },
      "execution_count": 13,
      "outputs": [
        {
          "output_type": "stream",
          "name": "stdout",
          "text": [
            "tensor([[[1, 2],\n",
            "         [3, 4]],\n",
            "\n",
            "        [[5, 6],\n",
            "         [7, 8]]])\n"
          ]
        }
      ]
    },
    {
      "cell_type": "code",
      "source": [
        "tensor2 = torch.tensor([[[9, 10], [11, 12]], [[13, 14], [15, 16]]])\n",
        "print(tensor2)"
      ],
      "metadata": {
        "colab": {
          "base_uri": "https://localhost:8080/"
        },
        "id": "kvFmzicZeUSc",
        "outputId": "fd740294-1eac-4885-d969-3bc9cd0bc0d2"
      },
      "execution_count": 14,
      "outputs": [
        {
          "output_type": "stream",
          "name": "stdout",
          "text": [
            "tensor([[[ 9, 10],\n",
            "         [11, 12]],\n",
            "\n",
            "        [[13, 14],\n",
            "         [15, 16]]])\n"
          ]
        }
      ]
    },
    {
      "cell_type": "code",
      "source": [
        "print(tensor1 + tensor2)\n",
        "print(tensor1 - tensor2)\n",
        "print(tensor1 * tensor2)\n",
        "print(tensor1 / tensor2)"
      ],
      "metadata": {
        "colab": {
          "base_uri": "https://localhost:8080/"
        },
        "id": "jyzeQ_VZemsV",
        "outputId": "bed03ac4-21f7-4270-eae6-d63cd9955b60"
      },
      "execution_count": 15,
      "outputs": [
        {
          "output_type": "stream",
          "name": "stdout",
          "text": [
            "tensor([[[10, 12],\n",
            "         [14, 16]],\n",
            "\n",
            "        [[18, 20],\n",
            "         [22, 24]]])\n",
            "tensor([[[-8, -8],\n",
            "         [-8, -8]],\n",
            "\n",
            "        [[-8, -8],\n",
            "         [-8, -8]]])\n",
            "tensor([[[  9,  20],\n",
            "         [ 33,  48]],\n",
            "\n",
            "        [[ 65,  84],\n",
            "         [105, 128]]])\n",
            "tensor([[[0.1111, 0.2000],\n",
            "         [0.2727, 0.3333]],\n",
            "\n",
            "        [[0.3846, 0.4286],\n",
            "         [0.4667, 0.5000]]])\n"
          ]
        }
      ]
    },
    {
      "cell_type": "code",
      "source": [
        "print(torch.add(tensor1, tensor2))\n",
        "print(torch.subtract(tensor1, tensor2))\n",
        "print(torch.multiply(tensor1, tensor2))\n",
        "print(torch.divide(tensor1, tensor2))\n",
        "print(torch.matmul(tensor1, tensor2)) # 행렬곱"
      ],
      "metadata": {
        "colab": {
          "base_uri": "https://localhost:8080/"
        },
        "id": "mtu7XmwJrmq0",
        "outputId": "76b13534-0958-4a68-f90c-cca915753583"
      },
      "execution_count": 49,
      "outputs": [
        {
          "output_type": "stream",
          "name": "stdout",
          "text": [
            "tensor([[[10, 12],\n",
            "         [14, 16]],\n",
            "\n",
            "        [[18, 20],\n",
            "         [22, 24]]])\n",
            "tensor([[[-8, -8],\n",
            "         [-8, -8]],\n",
            "\n",
            "        [[-8, -8],\n",
            "         [-8, -8]]])\n",
            "tensor([[[  9,  20],\n",
            "         [ 33,  48]],\n",
            "\n",
            "        [[ 65,  84],\n",
            "         [105, 128]]])\n",
            "tensor([[[0.1111, 0.2000],\n",
            "         [0.2727, 0.3333]],\n",
            "\n",
            "        [[0.3846, 0.4286],\n",
            "         [0.4667, 0.5000]]])\n",
            "tensor([[[ 31,  34],\n",
            "         [ 71,  78]],\n",
            "\n",
            "        [[155, 166],\n",
            "         [211, 226]]])\n"
          ]
        }
      ]
    },
    {
      "cell_type": "code",
      "source": [
        "print(tensor1.add_(tensor2)) # tensor1에 결과를 다시 저장, 모든 사칙연산자에 _를 붙여 사용할 수 있\n",
        "print(tensor1)"
      ],
      "metadata": {
        "colab": {
          "base_uri": "https://localhost:8080/"
        },
        "id": "odDqnIBCsGXx",
        "outputId": "4f96f0dd-29aa-4f30-97b0-18369b622fe8"
      },
      "execution_count": 50,
      "outputs": [
        {
          "output_type": "stream",
          "name": "stdout",
          "text": [
            "tensor([[[10, 12],\n",
            "         [14, 16]],\n",
            "\n",
            "        [[18, 20],\n",
            "         [22, 24]]])\n"
          ]
        },
        {
          "output_type": "execute_result",
          "data": {
            "text/plain": [
              "tensor([[[10, 12],\n",
              "         [14, 16]],\n",
              "\n",
              "        [[18, 20],\n",
              "         [22, 24]]])"
            ]
          },
          "metadata": {},
          "execution_count": 50
        }
      ]
    },
    {
      "cell_type": "markdown",
      "source": [
        "# 2. 텐서의 변환"
      ],
      "metadata": {
        "id": "RHRKI5KMesuf"
      }
    },
    {
      "cell_type": "code",
      "source": [
        "data = [[1, 2], [3, 4]]\n",
        "print(data)"
      ],
      "metadata": {
        "colab": {
          "base_uri": "https://localhost:8080/"
        },
        "id": "NBpzgKA-e50l",
        "outputId": "c44f6b9b-0a96-4835-c074-358570da64c2"
      },
      "execution_count": 16,
      "outputs": [
        {
          "output_type": "stream",
          "name": "stdout",
          "text": [
            "[[1, 2], [3, 4]]\n"
          ]
        }
      ]
    },
    {
      "cell_type": "code",
      "source": [
        "x_data = torch.tensor(data)\n",
        "print(x_data)"
      ],
      "metadata": {
        "colab": {
          "base_uri": "https://localhost:8080/"
        },
        "id": "j5frOm2hfB1X",
        "outputId": "f5faa3ba-8909-41eb-cbfd-3dd71f23792f"
      },
      "execution_count": 17,
      "outputs": [
        {
          "output_type": "stream",
          "name": "stdout",
          "text": [
            "tensor([[1, 2],\n",
            "        [3, 4]])\n"
          ]
        }
      ]
    },
    {
      "cell_type": "code",
      "source": [
        "import numpy as np"
      ],
      "metadata": {
        "id": "B69i-aLRfJyl"
      },
      "execution_count": 18,
      "outputs": []
    },
    {
      "cell_type": "code",
      "source": [
        "np_array = np.array(data)\n",
        "np_array"
      ],
      "metadata": {
        "colab": {
          "base_uri": "https://localhost:8080/"
        },
        "id": "xPaCRWLFfRNy",
        "outputId": "42d35b1c-31c3-4308-d809-110f2c7de1db"
      },
      "execution_count": 19,
      "outputs": [
        {
          "output_type": "execute_result",
          "data": {
            "text/plain": [
              "array([[1, 2],\n",
              "       [3, 4]])"
            ]
          },
          "metadata": {},
          "execution_count": 19
        }
      ]
    },
    {
      "cell_type": "code",
      "source": [
        "x_np_1 = torch.tensor(np_array)\n",
        "x_np_1"
      ],
      "metadata": {
        "colab": {
          "base_uri": "https://localhost:8080/"
        },
        "id": "fUf1tmIjfWTK",
        "outputId": "f3243517-9ace-41df-e0a5-e570693930dc"
      },
      "execution_count": 20,
      "outputs": [
        {
          "output_type": "execute_result",
          "data": {
            "text/plain": [
              "tensor([[1, 2],\n",
              "        [3, 4]])"
            ]
          },
          "metadata": {},
          "execution_count": 20
        }
      ]
    },
    {
      "cell_type": "code",
      "source": [
        "x_np_1[0, 0] = 100\n",
        "print(x_np_1)\n",
        "print(np_array)"
      ],
      "metadata": {
        "colab": {
          "base_uri": "https://localhost:8080/"
        },
        "id": "fzKJOg6jfgS-",
        "outputId": "4d63bd41-6f38-48ec-e1d8-06d6fb76bfd3"
      },
      "execution_count": 21,
      "outputs": [
        {
          "output_type": "stream",
          "name": "stdout",
          "text": [
            "tensor([[100,   2],\n",
            "        [  3,   4]])\n",
            "[[1 2]\n",
            " [3 4]]\n"
          ]
        }
      ]
    },
    {
      "cell_type": "code",
      "source": [
        "x_np_2 = torch.as_tensor(np_array) # ndarray와 동일한 메모리 주소를 가리키는 뷰를 만드는 함수(잘 사용 안함)\n",
        "print(x_np_2)\n",
        "x_np_2[0, 0] = 200 # 기존 메모리 주소의 ndarray값을 변경하게 됨\n",
        "print(x_np_2)\n",
        "print(np_array)"
      ],
      "metadata": {
        "colab": {
          "base_uri": "https://localhost:8080/"
        },
        "id": "kl0-FmrMfsAF",
        "outputId": "d63d88c1-f57a-4a61-b347-591d061de19a"
      },
      "execution_count": 22,
      "outputs": [
        {
          "output_type": "stream",
          "name": "stdout",
          "text": [
            "tensor([[1, 2],\n",
            "        [3, 4]])\n",
            "tensor([[200,   2],\n",
            "        [  3,   4]])\n",
            "[[200   2]\n",
            " [  3   4]]\n"
          ]
        }
      ]
    },
    {
      "cell_type": "code",
      "source": [
        "x_np_3 = torch.from_numpy(np_array) # ndarray와 동일한 메모리 주소를 가리키는 뷰를 만드는 함수(잘 사용 안함)\n",
        "print(x_np_3)\n",
        "x_np_3[0, 0] = 400 # 기존 메모리 주소의 ndarray값을 변경하게 됨\n",
        "print(x_np_3)\n",
        "print(np_array)"
      ],
      "metadata": {
        "colab": {
          "base_uri": "https://localhost:8080/"
        },
        "id": "LFSyVqzRf8b_",
        "outputId": "5a2fd784-9597-4f68-ea9d-6047cea85a28"
      },
      "execution_count": 23,
      "outputs": [
        {
          "output_type": "stream",
          "name": "stdout",
          "text": [
            "tensor([[200,   2],\n",
            "        [  3,   4]])\n",
            "tensor([[400,   2],\n",
            "        [  3,   4]])\n",
            "[[400   2]\n",
            " [  3   4]]\n"
          ]
        }
      ]
    },
    {
      "cell_type": "code",
      "source": [
        "np_again = x_np_1.numpy()\n",
        "print(np_again, type(np_again))"
      ],
      "metadata": {
        "colab": {
          "base_uri": "https://localhost:8080/"
        },
        "id": "N015ioObgmvF",
        "outputId": "a2b4840e-c7db-423d-b265-7fdee63bd4b3"
      },
      "execution_count": 24,
      "outputs": [
        {
          "output_type": "stream",
          "name": "stdout",
          "text": [
            "[[100   2]\n",
            " [  3   4]] <class 'numpy.ndarray'>\n"
          ]
        }
      ]
    },
    {
      "cell_type": "markdown",
      "source": [
        "# 3. 파이토치 주요 함수"
      ],
      "metadata": {
        "id": "Rpz2AO6xhSLi"
      }
    },
    {
      "cell_type": "code",
      "source": [
        "a = torch.ones(2, 3)\n",
        "print(a)"
      ],
      "metadata": {
        "colab": {
          "base_uri": "https://localhost:8080/"
        },
        "id": "J8x_BiAuhhQS",
        "outputId": "504812c8-890f-465a-8679-63ca687f6567"
      },
      "execution_count": 25,
      "outputs": [
        {
          "output_type": "stream",
          "name": "stdout",
          "text": [
            "tensor([[1., 1., 1.],\n",
            "        [1., 1., 1.]])\n"
          ]
        }
      ]
    },
    {
      "cell_type": "code",
      "source": [
        "b = torch.zeros(2, 3)\n",
        "print(b)"
      ],
      "metadata": {
        "colab": {
          "base_uri": "https://localhost:8080/"
        },
        "id": "x5ZYI3Ohhoq9",
        "outputId": "e192d96d-1c31-43b0-fd6b-43455a16e29a"
      },
      "execution_count": 26,
      "outputs": [
        {
          "output_type": "stream",
          "name": "stdout",
          "text": [
            "tensor([[0., 0., 0.],\n",
            "        [0., 0., 0.]])\n"
          ]
        }
      ]
    },
    {
      "cell_type": "code",
      "source": [
        "c = torch.full((2, 3), 10)\n",
        "print(c)"
      ],
      "metadata": {
        "colab": {
          "base_uri": "https://localhost:8080/"
        },
        "id": "3EsYg66ShulH",
        "outputId": "e7f75768-f088-4be7-a5a7-ee0295facaa7"
      },
      "execution_count": 27,
      "outputs": [
        {
          "output_type": "stream",
          "name": "stdout",
          "text": [
            "tensor([[10, 10, 10],\n",
            "        [10, 10, 10]])\n"
          ]
        }
      ]
    },
    {
      "cell_type": "code",
      "source": [
        "d = torch.empty(2, 3)\n",
        "print(d)"
      ],
      "metadata": {
        "colab": {
          "base_uri": "https://localhost:8080/"
        },
        "id": "_hsX-y6ziaH5",
        "outputId": "849e5296-34a2-4dd4-a015-17067346aeac"
      },
      "execution_count": 28,
      "outputs": [
        {
          "output_type": "stream",
          "name": "stdout",
          "text": [
            "tensor([[2.3516e+17, 4.5684e-41, 2.3516e+17],\n",
            "        [4.5684e-41, 4.4842e-44, 0.0000e+00]])\n"
          ]
        }
      ]
    },
    {
      "cell_type": "code",
      "source": [
        "e = torch.eye(5)\n",
        "print(e)"
      ],
      "metadata": {
        "colab": {
          "base_uri": "https://localhost:8080/"
        },
        "id": "iSD-HEL4ihtZ",
        "outputId": "244ddd88-2176-4256-e631-593bfd68c526"
      },
      "execution_count": 29,
      "outputs": [
        {
          "output_type": "stream",
          "name": "stdout",
          "text": [
            "tensor([[1., 0., 0., 0., 0.],\n",
            "        [0., 1., 0., 0., 0.],\n",
            "        [0., 0., 1., 0., 0.],\n",
            "        [0., 0., 0., 1., 0.],\n",
            "        [0., 0., 0., 0., 1.]])\n"
          ]
        }
      ]
    },
    {
      "cell_type": "code",
      "source": [
        "f = torch.arange(10)\n",
        "print(f)"
      ],
      "metadata": {
        "colab": {
          "base_uri": "https://localhost:8080/"
        },
        "id": "0hiZU2HLinqo",
        "outputId": "f3de6e4c-77d0-4ffb-abbe-be80b53ba31f"
      },
      "execution_count": 30,
      "outputs": [
        {
          "output_type": "stream",
          "name": "stdout",
          "text": [
            "tensor([0, 1, 2, 3, 4, 5, 6, 7, 8, 9])\n"
          ]
        }
      ]
    },
    {
      "cell_type": "code",
      "source": [
        "g = torch.rand(2, 3)\n",
        "print(g)"
      ],
      "metadata": {
        "colab": {
          "base_uri": "https://localhost:8080/"
        },
        "id": "S4VnWbu0i5mt",
        "outputId": "55283a58-de5f-4353-bb05-959295b73904"
      },
      "execution_count": 31,
      "outputs": [
        {
          "output_type": "stream",
          "name": "stdout",
          "text": [
            "tensor([[0.8452, 0.5497, 0.4099],\n",
            "        [0.8343, 0.4671, 0.2026]])\n"
          ]
        }
      ]
    },
    {
      "cell_type": "code",
      "source": [
        "h = torch.randn(2, 3)\n",
        "print(h)"
      ],
      "metadata": {
        "colab": {
          "base_uri": "https://localhost:8080/"
        },
        "id": "54NkHo6Ei-Ct",
        "outputId": "a18a00ba-47c8-4c4b-8cc6-ffbf1dd3112f"
      },
      "execution_count": 32,
      "outputs": [
        {
          "output_type": "stream",
          "name": "stdout",
          "text": [
            "tensor([[-0.5985,  1.3681, -0.6921],\n",
            "        [ 1.2127,  1.2016, -0.9689]])\n"
          ]
        }
      ]
    },
    {
      "cell_type": "code",
      "source": [
        "i = torch.arange(16).reshape(2, 2, 4)\n",
        "print(i, i.shape)\n",
        "\n",
        "# 차원을 인덱스로 변경\n",
        "j = i.transpose(1, 2) # 2, 4, 2\n",
        "print(j, j.shape)"
      ],
      "metadata": {
        "colab": {
          "base_uri": "https://localhost:8080/"
        },
        "id": "niRXDUJ3ptGX",
        "outputId": "4feb9f64-ffe6-4f25-dafa-0d42392ee2ff"
      },
      "execution_count": 45,
      "outputs": [
        {
          "output_type": "stream",
          "name": "stdout",
          "text": [
            "tensor([[[ 0,  1,  2,  3],\n",
            "         [ 4,  5,  6,  7]],\n",
            "\n",
            "        [[ 8,  9, 10, 11],\n",
            "         [12, 13, 14, 15]]]) torch.Size([2, 2, 4])\n",
            "tensor([[[ 0,  4],\n",
            "         [ 1,  5],\n",
            "         [ 2,  6],\n",
            "         [ 3,  7]],\n",
            "\n",
            "        [[ 8, 12],\n",
            "         [ 9, 13],\n",
            "         [10, 14],\n",
            "         [11, 15]]]) torch.Size([2, 4, 2])\n"
          ]
        }
      ]
    },
    {
      "cell_type": "code",
      "source": [
        "# 차원을 인덱스로 변경\n",
        "k = i.permute((2, 0, 1)) # 2, 2, 4 -> 4, 2, 2\n",
        "print(k, k.shape)"
      ],
      "metadata": {
        "colab": {
          "base_uri": "https://localhost:8080/"
        },
        "id": "06CQzIdZp1Sh",
        "outputId": "5e4354b7-64c9-4938-8e4d-4a0d3d98b899"
      },
      "execution_count": 47,
      "outputs": [
        {
          "output_type": "stream",
          "name": "stdout",
          "text": [
            "tensor([[[ 0,  4],\n",
            "         [ 8, 12]],\n",
            "\n",
            "        [[ 1,  5],\n",
            "         [ 9, 13]],\n",
            "\n",
            "        [[ 2,  6],\n",
            "         [10, 14]],\n",
            "\n",
            "        [[ 3,  7],\n",
            "         [11, 15]]]) torch.Size([4, 2, 2])\n"
          ]
        }
      ]
    },
    {
      "cell_type": "markdown",
      "source": [
        "# 4. GPU 사용하기\n",
        "* 코랩에서 device 변경하는 방법\n",
        "    * 상단 메뉴 -> 런타임 -> 런타임 유형변경 -> 하드웨어 가속기를 GPU로 변경 -> 저장 -> 다시 시작 및 모두 실행"
      ],
      "metadata": {
        "id": "K3nneUiwjHou"
      }
    },
    {
      "cell_type": "code",
      "source": [
        "tensor = torch.rand(3, 4)\n",
        "print(f'shape: {tensor.shape}')\n",
        "print(f'type: {tensor.dtype}')\n",
        "print(f'device: {tensor.device}')"
      ],
      "metadata": {
        "colab": {
          "base_uri": "https://localhost:8080/"
        },
        "id": "Hp-Hm5rWm_NX",
        "outputId": "1767bd8b-58c4-4588-a6c7-38d6c0dcf565"
      },
      "execution_count": 33,
      "outputs": [
        {
          "output_type": "stream",
          "name": "stdout",
          "text": [
            "shape: torch.Size([3, 4])\n",
            "type: torch.float32\n",
            "device: cpu\n"
          ]
        }
      ]
    },
    {
      "cell_type": "code",
      "source": [
        "tensor = tensor.reshape(4, 3)\n",
        "tensor = tensor.int()\n",
        "if torch.cuda.is_available():\n",
        "    print('GPU를 사용할 수 있음')\n",
        "    tensor = tensor.to('cuda')\n",
        "\n",
        "print(f'shape: {tensor.shape}')\n",
        "print(f'type: {tensor.dtype}')\n",
        "print(f'device: {tensor.device}')"
      ],
      "metadata": {
        "colab": {
          "base_uri": "https://localhost:8080/"
        },
        "id": "MqQxZuB5n5S2",
        "outputId": "d05c33f3-5a1a-45cb-8512-d76a28c5dc42"
      },
      "execution_count": 34,
      "outputs": [
        {
          "output_type": "stream",
          "name": "stdout",
          "text": [
            "GPU를 사용할 수 있음\n",
            "shape: torch.Size([4, 3])\n",
            "type: torch.int32\n",
            "device: cuda:0\n"
          ]
        }
      ]
    },
    {
      "cell_type": "markdown",
      "source": [
        "# 5. 텐서의 인덱싱과 슬라이싱"
      ],
      "metadata": {
        "id": "rKxjpWQ7opaN"
      }
    },
    {
      "cell_type": "code",
      "source": [
        "a = torch.arange(1, 13).reshape(3, 4)\n",
        "print(a)"
      ],
      "metadata": {
        "colab": {
          "base_uri": "https://localhost:8080/"
        },
        "id": "nPRMXcolpHXd",
        "outputId": "697de170-7254-4637-a702-39f46605b7c6"
      },
      "execution_count": 35,
      "outputs": [
        {
          "output_type": "stream",
          "name": "stdout",
          "text": [
            "tensor([[ 1,  2,  3,  4],\n",
            "        [ 5,  6,  7,  8],\n",
            "        [ 9, 10, 11, 12]])\n"
          ]
        }
      ]
    },
    {
      "cell_type": "code",
      "source": [
        "print(a[1])\n",
        "print(a[0, -1])\n",
        "print(a[1:-1])\n",
        "print(a[:2, 2:])"
      ],
      "metadata": {
        "colab": {
          "base_uri": "https://localhost:8080/"
        },
        "id": "zFMpwzpVpTUp",
        "outputId": "b2bbf2b9-6fee-4e4b-f4ed-e92619ef1389"
      },
      "execution_count": 39,
      "outputs": [
        {
          "output_type": "stream",
          "name": "stdout",
          "text": [
            "tensor([5, 6, 7, 8])\n",
            "tensor(4)\n",
            "tensor([[5, 6, 7, 8]])\n",
            "tensor([[3, 4],\n",
            "        [7, 8]])\n"
          ]
        }
      ]
    }
  ]
}