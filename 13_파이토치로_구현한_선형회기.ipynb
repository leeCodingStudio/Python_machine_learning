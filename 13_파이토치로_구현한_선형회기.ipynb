{
  "nbformat": 4,
  "nbformat_minor": 0,
  "metadata": {
    "colab": {
      "provenance": [],
      "mount_file_id": "1xanSx_C1ODmfWI1KWj-O4PepCkNcp8i8",
      "authorship_tag": "ABX9TyMV3gy3r11EuMGTxKVi834w",
      "include_colab_link": true
    },
    "kernelspec": {
      "name": "python3",
      "display_name": "Python 3"
    },
    "language_info": {
      "name": "python"
    }
  },
  "cells": [
    {
      "cell_type": "markdown",
      "metadata": {
        "id": "view-in-github",
        "colab_type": "text"
      },
      "source": [
        "<a href=\"https://colab.research.google.com/github/leeCodingStudio/Python_machine_learning/blob/master/13_%ED%8C%8C%EC%9D%B4%ED%86%A0%EC%B9%98%EB%A1%9C_%EA%B5%AC%ED%98%84%ED%95%9C_%EC%84%A0%ED%98%95%ED%9A%8C%EA%B8%B0.ipynb\" target=\"_parent\"><img src=\"https://colab.research.google.com/assets/colab-badge.svg\" alt=\"Open In Colab\"/></a>"
      ]
    },
    {
      "cell_type": "markdown",
      "source": [
        "# 1. 단항 선형 회귀 실습\n",
        "* 한 개의 입력이 들어가서 한 개의 출력이 나오는 구조"
      ],
      "metadata": {
        "id": "6CyP7OpT6ut8"
      }
    },
    {
      "cell_type": "code",
      "execution_count": null,
      "metadata": {
        "id": "O083-Q85tB5y"
      },
      "outputs": [],
      "source": [
        "import torch\n",
        "import torch.nn as nn\n",
        "import torch.optim as optim\n",
        "import matplotlib.pyplot as plt"
      ]
    },
    {
      "cell_type": "code",
      "source": [
        "# 파이썬 코드를 재실행해도 같은 결과가 나올 수 있도록 랜점시드를 설정\n",
        "torch.manual_seed(10)"
      ],
      "metadata": {
        "colab": {
          "base_uri": "https://localhost:8080/"
        },
        "id": "-oQWgcxstjwL",
        "outputId": "1d8a4e20-8831-4f0b-d460-ee1a8386b997"
      },
      "execution_count": null,
      "outputs": [
        {
          "output_type": "execute_result",
          "data": {
            "text/plain": [
              "<torch._C.Generator at 0x7f0d984e8b90>"
            ]
          },
          "metadata": {},
          "execution_count": 2
        }
      ]
    },
    {
      "cell_type": "code",
      "source": [
        "x_train = torch.FloatTensor([[1], [2], [3]])\n",
        "y_train = torch.FloatTensor([[2], [4], [6]])\n",
        "\n",
        "print(x_train)\n",
        "print(x_train.shape)\n",
        "print(y_train)\n",
        "print(y_train.shape)"
      ],
      "metadata": {
        "colab": {
          "base_uri": "https://localhost:8080/"
        },
        "id": "k4KZBLf6tqfN",
        "outputId": "825374d5-a81c-4c57-f997-4d22390bc93a"
      },
      "execution_count": null,
      "outputs": [
        {
          "output_type": "stream",
          "name": "stdout",
          "text": [
            "tensor([[1.],\n",
            "        [2.],\n",
            "        [3.]])\n",
            "torch.Size([3, 1])\n",
            "tensor([[2.],\n",
            "        [4.],\n",
            "        [6.]])\n",
            "torch.Size([3, 1])\n"
          ]
        }
      ]
    },
    {
      "cell_type": "code",
      "source": [
        "plt.figure(figsize=(8, 5))\n",
        "plt.scatter(x_train, y_train)"
      ],
      "metadata": {
        "colab": {
          "base_uri": "https://localhost:8080/",
          "height": 463
        },
        "id": "twSHNZG5t_rC",
        "outputId": "8129908d-1140-4077-9a59-bfce31440a7a"
      },
      "execution_count": null,
      "outputs": [
        {
          "output_type": "execute_result",
          "data": {
            "text/plain": [
              "<matplotlib.collections.PathCollection at 0x7f0e5ab04a90>"
            ]
          },
          "metadata": {},
          "execution_count": 4
        },
        {
          "output_type": "display_data",
          "data": {
            "text/plain": [
              "<Figure size 800x500 with 1 Axes>"
            ],
            "image/png": "[encoded data removed]"
          },
          "metadata": {}
        }
      ]
    },
    {
      "cell_type": "code",
      "source": [
        "# H = Wx + b\n",
        "\n",
        "model = nn.Linear(1, 1)\n",
        "print(model)"
      ],
      "metadata": {
        "colab": {
          "base_uri": "https://localhost:8080/"
        },
        "id": "b7JjnP7YuQEN",
        "outputId": "ac495366-38b0-4130-d630-e49178aa7c7a"
      },
      "execution_count": null,
      "outputs": [
        {
          "output_type": "stream",
          "name": "stdout",
          "text": [
            "Linear(in_features=1, out_features=1, bias=True)\n"
          ]
        }
      ]
    },
    {
      "cell_type": "code",
      "source": [
        "print(list(model.parameters()))"
      ],
      "metadata": {
        "colab": {
          "base_uri": "https://localhost:8080/"
        },
        "id": "MvLJ_c79vKGo",
        "outputId": "05fd5f36-0739-4772-c6fa-2aa7a28b08fa"
      },
      "execution_count": null,
      "outputs": [
        {
          "output_type": "stream",
          "name": "stdout",
          "text": [
            "[Parameter containing:\n",
            "tensor([[-0.0838]], requires_grad=True), Parameter containing:\n",
            "tensor([-0.0343], requires_grad=True)]\n"
          ]
        }
      ]
    },
    {
      "cell_type": "code",
      "source": [
        "# 비용 함수\n",
        "# Cost Function = Loss Function\n",
        "y_pred = model(x_train)\n",
        "print(y_pred)"
      ],
      "metadata": {
        "colab": {
          "base_uri": "https://localhost:8080/"
        },
        "id": "Cq5E0M8gvV6P",
        "outputId": "fabb5ad2-e886-4a94-a6a7-df62dd4a6a3d"
      },
      "execution_count": null,
      "outputs": [
        {
          "output_type": "stream",
          "name": "stdout",
          "text": [
            "tensor([[-0.1181],\n",
            "        [-0.2019],\n",
            "        [-0.2858]], grad_fn=<AddmmBackward0>)\n"
          ]
        }
      ]
    },
    {
      "cell_type": "code",
      "source": [
        "((y_pred - y_train) ** 2).mean()"
      ],
      "metadata": {
        "colab": {
          "base_uri": "https://localhost:8080/"
        },
        "id": "oY6SD475wSX8",
        "outputId": "252298a1-4401-46bd-99f0-bd639455d31d"
      },
      "execution_count": null,
      "outputs": [
        {
          "output_type": "execute_result",
          "data": {
            "text/plain": [
              "tensor(20.5513, grad_fn=<MeanBackward0>)"
            ]
          },
          "metadata": {},
          "execution_count": 8
        }
      ]
    },
    {
      "cell_type": "code",
      "source": [
        "loss = nn.MSELoss()(y_pred, y_train)\n",
        "loss"
      ],
      "metadata": {
        "colab": {
          "base_uri": "https://localhost:8080/"
        },
        "id": "LsERqHqHwoSI",
        "outputId": "149426f6-cad6-47df-a16d-cbdd24c694ef"
      },
      "execution_count": null,
      "outputs": [
        {
          "output_type": "execute_result",
          "data": {
            "text/plain": [
              "tensor(20.5513, grad_fn=<MseLossBackward0>)"
            ]
          },
          "metadata": {},
          "execution_count": 9
        }
      ]
    },
    {
      "cell_type": "code",
      "source": [
        "# 데이터 [[1], [2], [3]]\n",
        "# W: [[-0.0838]] b: [-0.0343]\n",
        "# pred: [[-0.1181], [-0.2019], [-0.2858]]\n",
        "print(-0.0838*1+-0.0343)\n",
        "print(-0.0838*2+-0.0343)\n",
        "print(-0.0838*3+-0.0343)"
      ],
      "metadata": {
        "colab": {
          "base_uri": "https://localhost:8080/"
        },
        "id": "wcKRnJvYws8v",
        "outputId": "fd3297d2-c3ec-4c02-977f-0fcd370798f0"
      },
      "execution_count": null,
      "outputs": [
        {
          "output_type": "stream",
          "name": "stdout",
          "text": [
            "-0.1181\n",
            "-0.2019\n",
            "-0.2857\n"
          ]
        }
      ]
    },
    {
      "cell_type": "markdown",
      "source": [
        "### 경사하강법(Gradient Descent)\n",
        "* 비용 함수의 값을 최소로 하는 W와 b를 찾는 알고리즘을 옵티마이저 알고리즘이라고 함\n",
        "* 최적화 알고리즘\n",
        "* 옵티마이저 알고리즘을 통해 W와 b를 찾아내는 과정을 학습이라고 부름\n",
        "* 경사 하강법을 가장 기본적인 옵티마이저 알고리즘\n",
        "![](https://i.imgur.com/0fW4LTG.png)"
      ],
      "metadata": {
        "id": "hb4Ejktv03x2"
      }
    },
    {
      "cell_type": "code",
      "source": [
        "# 학습률(Learning rate): 한 번 움직이는 거리(increment step)\n",
        "optimizer = optim.SGD(model.parameters(), lr=0.01)"
      ],
      "metadata": {
        "id": "8p0gaMAQ0_J6"
      },
      "execution_count": null,
      "outputs": []
    },
    {
      "cell_type": "code",
      "source": [
        "loss = nn.MSELoss()(y_pred, y_train)\n",
        "\n",
        "# gradient를 초기화\n",
        "optimizer.zero_grad()\n",
        "# 비용 함수를 미분하여 gradient(기울기) 계산\n",
        "loss.backward()\n",
        "# W와 b를 업데이트\n",
        "optimizer.step()\n",
        "\n",
        "print(list(model.parameters()))\n",
        "# W: [[-0.0838]] b: [-0.0343]\n",
        "# W: [[0.1120]] b: [0.0498]"
      ],
      "metadata": {
        "colab": {
          "base_uri": "https://localhost:8080/"
        },
        "id": "7iH2xS-D3Ur6",
        "outputId": "03dd4289-2cdd-4d03-f160-393c268ec33e"
      },
      "execution_count": null,
      "outputs": [
        {
          "output_type": "stream",
          "name": "stdout",
          "text": [
            "[Parameter containing:\n",
            "tensor([[0.1120]], requires_grad=True), Parameter containing:\n",
            "tensor([0.0498], requires_grad=True)]\n"
          ]
        }
      ]
    },
    {
      "cell_type": "code",
      "source": [
        "# 학습(Training)\n",
        "# 반복 훈련을 하면서 틀린 W, b를 수정하여 오차를 계속 줄여나감\n",
        "# epochs: 반복 훈련 횟수\n",
        "epochs = 1000\n",
        "\n",
        "for epoch in range(epochs + 1):\n",
        "    y_pred = model(x_train)\n",
        "    loss = nn.MSELoss()(y_pred, y_train)\n",
        "    optimizer.zero_grad()\n",
        "    loss.backward()\n",
        "    optimizer.step()\n",
        "\n",
        "    if epoch % 100 == 0:\n",
        "        print(f'Epoch {epoch}/{epoch} Loss: {loss:.6f}')"
      ],
      "metadata": {
        "colab": {
          "base_uri": "https://localhost:8080/"
        },
        "id": "4baXHyVS4aQW",
        "outputId": "cae843be-dd7d-4486-e903-42f29cf9c033"
      },
      "execution_count": null,
      "outputs": [
        {
          "output_type": "stream",
          "name": "stdout",
          "text": [
            "Epoch 0/0 Loss: 16.260735\n",
            "Epoch 100/100 Loss: 0.048222\n",
            "Epoch 200/200 Loss: 0.029798\n",
            "Epoch 300/300 Loss: 0.018414\n",
            "Epoch 400/400 Loss: 0.011378\n",
            "Epoch 500/500 Loss: 0.007031\n",
            "Epoch 600/600 Loss: 0.004345\n",
            "Epoch 700/700 Loss: 0.002685\n",
            "Epoch 800/800 Loss: 0.001659\n",
            "Epoch 900/900 Loss: 0.001025\n",
            "Epoch 1000/1000 Loss: 0.000634\n"
          ]
        }
      ]
    },
    {
      "cell_type": "code",
      "source": [
        "print(list(model.parameters()))\n",
        "# 1.9708 * x + 0.0663"
      ],
      "metadata": {
        "colab": {
          "base_uri": "https://localhost:8080/"
        },
        "id": "FPs_0iby5kLG",
        "outputId": "580fd63f-d678-4027-b7f5-5f9fae2bbf42"
      },
      "execution_count": null,
      "outputs": [
        {
          "output_type": "stream",
          "name": "stdout",
          "text": [
            "[Parameter containing:\n",
            "tensor([[1.9708]], requires_grad=True), Parameter containing:\n",
            "tensor([0.0663], requires_grad=True)]\n"
          ]
        }
      ]
    },
    {
      "cell_type": "code",
      "source": [
        "x_test = torch.FloatTensor([[10], [12.1234]])\n",
        "y_pred = model(x_test)\n",
        "print(y_pred)"
      ],
      "metadata": {
        "colab": {
          "base_uri": "https://localhost:8080/"
        },
        "id": "ULAqk01354L7",
        "outputId": "e402b555-ea28-4adb-bdca-37624d5806b1"
      },
      "execution_count": null,
      "outputs": [
        {
          "output_type": "stream",
          "name": "stdout",
          "text": [
            "tensor([[19.7747],\n",
            "        [23.9595]], grad_fn=<AddmmBackward0>)\n"
          ]
        }
      ]
    },
    {
      "cell_type": "markdown",
      "source": [
        "# 2. 다중 선형 회귀\n",
        "* 여러 개의 입력이 들어가서 한 개의 출력이 나오는 구조"
      ],
      "metadata": {
        "id": "SauFMFBg6RQI"
      }
    },
    {
      "cell_type": "code",
      "source": [
        "x_train = torch.FloatTensor([[73, 80, 75],\n",
        "                             [93, 88, 93],\n",
        "                             [89, 91, 90],\n",
        "                             [96, 98, 100],\n",
        "                             [73, 66, 70]])\n",
        "y_train = torch.FloatTensor([[152], [185], [180], [196], [142]])\n",
        "\n",
        "print(x_train)\n",
        "print(x_train.shape)\n",
        "print(y_train)\n",
        "print(y_train.shape)"
      ],
      "metadata": {
        "colab": {
          "base_uri": "https://localhost:8080/"
        },
        "id": "b5XkNatz7BGX",
        "outputId": "bd046fa1-abc7-4e22-a92a-9ffb427391e6"
      },
      "execution_count": null,
      "outputs": [
        {
          "output_type": "stream",
          "name": "stdout",
          "text": [
            "tensor([[ 73.,  80.,  75.],\n",
            "        [ 93.,  88.,  93.],\n",
            "        [ 89.,  91.,  90.],\n",
            "        [ 96.,  98., 100.],\n",
            "        [ 73.,  66.,  70.]])\n",
            "torch.Size([5, 3])\n",
            "tensor([[152.],\n",
            "        [185.],\n",
            "        [180.],\n",
            "        [196.],\n",
            "        [142.]])\n",
            "torch.Size([5, 1])\n"
          ]
        }
      ]
    },
    {
      "cell_type": "code",
      "source": [
        "# H = W1x1 + W3x3 + b\n",
        "model = nn.Linear(3, 1)\n",
        "print(model)"
      ],
      "metadata": {
        "colab": {
          "base_uri": "https://localhost:8080/"
        },
        "id": "4vNV9vJp75Q7",
        "outputId": "70c7ca1c-67e9-4a15-a50f-c88c2566c2f3"
      },
      "execution_count": null,
      "outputs": [
        {
          "output_type": "stream",
          "name": "stdout",
          "text": [
            "Linear(in_features=3, out_features=1, bias=True)\n"
          ]
        }
      ]
    },
    {
      "cell_type": "code",
      "source": [
        "print(list(model.parameters()))"
      ],
      "metadata": {
        "colab": {
          "base_uri": "https://localhost:8080/"
        },
        "id": "c6I62RlCQ3hL",
        "outputId": "d52760f5-fcd0-4b7b-afc4-0c0472d83942"
      },
      "execution_count": null,
      "outputs": [
        {
          "output_type": "stream",
          "name": "stdout",
          "text": [
            "[Parameter containing:\n",
            "tensor([[-0.2165,  0.1328, -0.3303]], requires_grad=True), Parameter containing:\n",
            "tensor([-0.1018], requires_grad=True)]\n"
          ]
        }
      ]
    },
    {
      "cell_type": "code",
      "source": [
        "optimizer = optim.SGD(model.parameters(), lr=0.00001)"
      ],
      "metadata": {
        "id": "KGk5jeqURBQs"
      },
      "execution_count": null,
      "outputs": []
    },
    {
      "cell_type": "code",
      "source": [
        "epochs = 1000\n",
        "\n",
        "for epoch in range(epochs + 1):\n",
        "    y_pred = model(x_train)\n",
        "    loss = nn.MSELoss()(y_pred, y_train)\n",
        "    optimizer.zero_grad()\n",
        "    loss.backward()\n",
        "    optimizer.step()\n",
        "\n",
        "    if epoch % 100 == 0:\n",
        "        print(f'Epoch {epoch}/{epoch} Loss: {loss:.6f}')"
      ],
      "metadata": {
        "colab": {
          "base_uri": "https://localhost:8080/"
        },
        "id": "MGmC375cRMNK",
        "outputId": "3032ae82-ea07-413a-9ae4-2ad3940ffd2c"
      },
      "execution_count": null,
      "outputs": [
        {
          "output_type": "stream",
          "name": "stdout",
          "text": [
            "Epoch 0/0 Loss: 43266.148438\n",
            "Epoch 100/100 Loss: 4.803024\n",
            "Epoch 200/200 Loss: 4.560738\n",
            "Epoch 300/300 Loss: 4.331190\n",
            "Epoch 400/400 Loss: 4.113773\n",
            "Epoch 500/500 Loss: 3.907800\n",
            "Epoch 600/600 Loss: 3.712666\n",
            "Epoch 700/700 Loss: 3.527837\n",
            "Epoch 800/800 Loss: 3.352756\n",
            "Epoch 900/900 Loss: 3.186870\n",
            "Epoch 1000/1000 Loss: 3.029752\n"
          ]
        }
      ]
    },
    {
      "cell_type": "code",
      "source": [
        "print(list(model.parameters()))"
      ],
      "metadata": {
        "colab": {
          "base_uri": "https://localhost:8080/"
        },
        "id": "FVx7J7_JRa5Y",
        "outputId": "b8582a02-404e-48d7-cae7-a603a59b4082"
      },
      "execution_count": null,
      "outputs": [
        {
          "output_type": "stream",
          "name": "stdout",
          "text": [
            "[Parameter containing:\n",
            "tensor([[0.6800, 0.8300, 0.5040]], requires_grad=True), Parameter containing:\n",
            "tensor([-0.0911], requires_grad=True)]\n"
          ]
        }
      ]
    },
    {
      "cell_type": "code",
      "source": [
        "x_test = torch.FloatTensor([[82, 92, 82]])\n",
        "y_pred = model(x_test)\n",
        "print(y_pred)"
      ],
      "metadata": {
        "colab": {
          "base_uri": "https://localhost:8080/"
        },
        "id": "nAQK4E8URlCg",
        "outputId": "1bb352c3-eb59-4668-f4fe-471d85d72abd"
      },
      "execution_count": null,
      "outputs": [
        {
          "output_type": "stream",
          "name": "stdout",
          "text": [
            "tensor([[173.3595]], grad_fn=<AddmmBackward0>)\n"
          ]
        }
      ]
    },
    {
      "cell_type": "markdown",
      "source": [
        "### 문제\n",
        "temps에서 데이터에서 기온에 따른 지면 온도를 예측해보자."
      ],
      "metadata": {
        "id": "I1VY-5NLRujp"
      }
    },
    {
      "cell_type": "code",
      "source": [
        "import pandas as pd"
      ],
      "metadata": {
        "id": "AveGsIxrSUyH"
      },
      "execution_count": null,
      "outputs": []
    },
    {
      "cell_type": "code",
      "source": [
        "temps_df = pd.read_csv('/content/drive/MyDrive/KDT/4. 머신러닝과 딥러닝/temps.csv', encoding='euc-kr')"
      ],
      "metadata": {
        "id": "dgjgMZ4vS09g"
      },
      "execution_count": null,
      "outputs": []
    },
    {
      "cell_type": "code",
      "source": [
        "temps_df.info()"
      ],
      "metadata": {
        "colab": {
          "base_uri": "https://localhost:8080/",
          "height": 174
        },
        "id": "nfn8yknAS5nS",
        "outputId": "ff427f26-1c4f-49b7-95aa-cab8b34dd223"
      },
      "execution_count": null,
      "outputs": [
        {
          "output_type": "error",
          "ename": "NameError",
          "evalue": "ignored",
          "traceback": [
            "\u001b[0;31m---------------------------------------------------------------------------\u001b[0m",
            "\u001b[0;31mNameError\u001b[0m                                 Traceback (most recent call last)",
            "\u001b[0;32m<ipython-input-93-629914d6d1c7>\u001b[0m in \u001b[0;36m<cell line: 1>\u001b[0;34m()\u001b[0m\n\u001b[0;32m----> 1\u001b[0;31m \u001b[0mdf\u001b[0m\u001b[0;34m.\u001b[0m\u001b[0misnull\u001b[0m\u001b[0;34m(\u001b[0m\u001b[0;34m)\u001b[0m\u001b[0;34m.\u001b[0m\u001b[0msum\u001b[0m\u001b[0;34m(\u001b[0m\u001b[0;34m)\u001b[0m\u001b[0;34m\u001b[0m\u001b[0;34m\u001b[0m\u001b[0m\n\u001b[0m",
            "\u001b[0;31mNameError\u001b[0m: name 'df' is not defined"
          ]
        }
      ]
    },
    {
      "cell_type": "code",
      "source": [
        "temps_df.dropna(inplace=True)"
      ],
      "metadata": {
        "id": "bJzkYjU7W02_"
      },
      "execution_count": null,
      "outputs": []
    },
    {
      "cell_type": "code",
      "source": [
        "temps_df.info()"
      ],
      "metadata": {
        "colab": {
          "base_uri": "https://localhost:8080/"
        },
        "id": "X8BWF4yRW7ef",
        "outputId": "b84f9da1-0d2f-4954-8192-58216c33612e"
      },
      "execution_count": null,
      "outputs": [
        {
          "output_type": "stream",
          "name": "stdout",
          "text": [
            "<class 'pandas.core.frame.DataFrame'>\n",
            "Int64Index: 8779 entries, 0 to 8781\n",
            "Data columns (total 5 columns):\n",
            " #   Column    Non-Null Count  Dtype  \n",
            "---  ------    --------------  -----  \n",
            " 0   지점        8779 non-null   int64  \n",
            " 1   지점명       8779 non-null   object \n",
            " 2   일시        8779 non-null   object \n",
            " 3   기온(°C)    8779 non-null   float64\n",
            " 4   지면온도(°C)  8779 non-null   float64\n",
            "dtypes: float64(2), int64(1), object(2)\n",
            "memory usage: 411.5+ KB\n"
          ]
        }
      ]
    },
    {
      "cell_type": "code",
      "source": [
        "temps_df_x = temps_df['기온(°C)'].values\n",
        "temps_df_y = temps_df['지면온도(°C)'].values"
      ],
      "metadata": {
        "id": "KpZ7m5sjTjvz"
      },
      "execution_count": null,
      "outputs": []
    },
    {
      "cell_type": "code",
      "source": [
        "x_np_temps = []\n",
        "y_np_temps = []\n",
        "\n",
        "for x, y in zip(temps_df_x, temps_df_y):\n",
        "    x_np_temps.append([x])\n",
        "    y_np_temps.append([y])"
      ],
      "metadata": {
        "id": "aaz7Htl9Xn5g"
      },
      "execution_count": null,
      "outputs": []
    },
    {
      "cell_type": "code",
      "source": [
        "x_temps = torch.FloatTensor(x_np_temps)\n",
        "y_temps = torch.FloatTensor(y_np_temps)"
      ],
      "metadata": {
        "id": "9WsorqmuT39G"
      },
      "execution_count": null,
      "outputs": []
    },
    {
      "cell_type": "code",
      "source": [
        "x_temps"
      ],
      "metadata": {
        "colab": {
          "base_uri": "https://localhost:8080/"
        },
        "id": "hmdZnawbVO93",
        "outputId": "4c08b4f9-64d1-4ff4-bc33-32682323cf01"
      },
      "execution_count": null,
      "outputs": [
        {
          "output_type": "execute_result",
          "data": {
            "text/plain": [
              "tensor([[-8.7000],\n",
              "        [-7.3000],\n",
              "        [-6.7000],\n",
              "        ...,\n",
              "        [-7.3000],\n",
              "        [-9.0000],\n",
              "        [-9.2000]])"
            ]
          },
          "metadata": {},
          "execution_count": 83
        }
      ]
    },
    {
      "cell_type": "code",
      "source": [
        "plt.figure(figsize=(8, 5))\n",
        "plt.scatter(x_temps, y_temps)"
      ],
      "metadata": {
        "colab": {
          "base_uri": "https://localhost:8080/",
          "height": 463
        },
        "id": "bcfOulanUAxR",
        "outputId": "bb0d2d8e-84b4-42ea-9aa3-578dc2f5497c"
      },
      "execution_count": null,
      "outputs": [
        {
          "output_type": "execute_result",
          "data": {
            "text/plain": [
              "<matplotlib.collections.PathCollection at 0x7f0d8abaec20>"
            ]
          },
          "metadata": {},
          "execution_count": 84
        },
        {
          "output_type": "display_data",
          "data": {
            "text/plain": [
              "<Figure size 800x500 with 1 Axes>"
            ],
            "image/png": "[encoded data removed]"
          },
          "metadata": {}
        }
      ]
    },
    {
      "cell_type": "code",
      "source": [
        "model = nn.Linear(1, 1)"
      ],
      "metadata": {
        "id": "YE-vSqesUMP8"
      },
      "execution_count": null,
      "outputs": []
    },
    {
      "cell_type": "code",
      "source": [
        "y_pred = model(x_temps)"
      ],
      "metadata": {
        "id": "nq8aurl3VHa5"
      },
      "execution_count": null,
      "outputs": []
    },
    {
      "cell_type": "code",
      "source": [
        "loss = nn.MSELoss()(y_pred, y_temps)\n",
        "loss"
      ],
      "metadata": {
        "colab": {
          "base_uri": "https://localhost:8080/"
        },
        "id": "zefcSSFBVG3W",
        "outputId": "04bbaeb1-4b22-48b7-faa2-8b40f6052631"
      },
      "execution_count": null,
      "outputs": [
        {
          "output_type": "execute_result",
          "data": {
            "text/plain": [
              "tensor(20.8162, grad_fn=<MseLossBackward0>)"
            ]
          },
          "metadata": {},
          "execution_count": 88
        }
      ]
    },
    {
      "cell_type": "code",
      "source": [
        "epochs = 1000\n",
        "\n",
        "for epoch in range(epochs + 1):\n",
        "    y_pred = model(x_temps)\n",
        "    loss = nn.MSELoss()(y_pred, y_temps)\n",
        "    optimizer.zero_grad()\n",
        "    loss.backward()\n",
        "    optimizer.step()\n",
        "\n",
        "    if epoch % 100 == 0:\n",
        "        print(f'Epoch {epoch}/{epoch} Loss: {loss:.6f}')"
      ],
      "metadata": {
        "colab": {
          "base_uri": "https://localhost:8080/"
        },
        "id": "gr95VBvgYGWZ",
        "outputId": "6901aacc-df35-4756-d0a7-912a02a5ccb7"
      },
      "execution_count": null,
      "outputs": [
        {
          "output_type": "stream",
          "name": "stdout",
          "text": [
            "Epoch 0/0 Loss: 20.816181\n",
            "Epoch 100/100 Loss: 20.816181\n",
            "Epoch 200/200 Loss: 20.816181\n",
            "Epoch 300/300 Loss: 20.816181\n",
            "Epoch 400/400 Loss: 20.816181\n",
            "Epoch 500/500 Loss: 20.816181\n",
            "Epoch 600/600 Loss: 20.816181\n",
            "Epoch 700/700 Loss: 20.816181\n",
            "Epoch 800/800 Loss: 20.816181\n",
            "Epoch 900/900 Loss: 20.816181\n",
            "Epoch 1000/1000 Loss: 20.816181\n"
          ]
        }
      ]
    },
    {
      "cell_type": "code",
      "source": [
        "x_test = torch.FloatTensor([[12.1234]])\n",
        "y_pred = model(x_test)\n",
        "print(y_pred)"
      ],
      "metadata": {
        "colab": {
          "base_uri": "https://localhost:8080/"
        },
        "id": "3kQcIGfnYOgm",
        "outputId": "8a67c15b-fa8c-48c4-abed-edb0d773bbe0"
      },
      "execution_count": null,
      "outputs": [
        {
          "output_type": "stream",
          "name": "stdout",
          "text": [
            "tensor([[11.6387]], grad_fn=<AddmmBackward0>)\n"
          ]
        }
      ]
    },
    {
      "cell_type": "markdown",
      "source": [
        "### 강사님 풀이"
      ],
      "metadata": {
        "id": "o0Nd0z8LYxD7"
      }
    },
    {
      "cell_type": "code",
      "source": [
        "df = pd.read_csv('/content/drive/MyDrive/KDT/4. 머신러닝과 딥러닝/temps.csv', encoding='euc-kr')\n",
        "df"
      ],
      "metadata": {
        "colab": {
          "base_uri": "https://localhost:8080/",
          "height": 424
        },
        "id": "ZIAg0MhaZfZg",
        "outputId": "0d07acd6-6591-46e1-929a-2c7067f47892"
      },
      "execution_count": null,
      "outputs": [
        {
          "output_type": "execute_result",
          "data": {
            "text/plain": [
              "       지점 지점명                일시  기온(°C)  지면온도(°C)\n",
              "0     232  천안  2020-01-01 01:00    -8.7      -2.9\n",
              "1     232  천안  2020-01-01 02:00    -7.3      -2.4\n",
              "2     232  천안  2020-01-01 03:00    -6.7      -2.2\n",
              "3     232  천안  2020-01-01 04:00    -6.2      -2.0\n",
              "4     232  천안  2020-01-01 05:00    -5.9      -1.9\n",
              "...   ...  ..               ...     ...       ...\n",
              "8777  232  천안  2020-12-31 19:00    -6.6      -0.6\n",
              "8778  232  천안  2020-12-31 20:00    -6.4      -0.7\n",
              "8779  232  천안  2020-12-31 21:00    -7.3      -1.2\n",
              "8780  232  천안  2020-12-31 22:00    -9.0      -1.5\n",
              "8781  232  천안  2020-12-31 23:00    -9.2      -1.2\n",
              "\n",
              "[8782 rows x 5 columns]"
            ],
            "text/html": [
              "\n",
              "  <div id=\"df-c5a1ce39-e3f6-433f-84f6-58b839518bef\">\n",
              "    <div class=\"colab-df-container\">\n",
              "      <div>\n",
              "<style scoped>\n",
              "    .dataframe tbody tr th:only-of-type {\n",
              "        vertical-align: middle;\n",
              "    }\n",
              "\n",
              "    .dataframe tbody tr th {\n",
              "        vertical-align: top;\n",
              "    }\n",
              "\n",
              "    .dataframe thead th {\n",
              "        text-align: right;\n",
              "    }\n",
              "</style>\n",
              "<table border=\"1\" class=\"dataframe\">\n",
              "  <thead>\n",
              "    <tr style=\"text-align: right;\">\n",
              "      <th></th>\n",
              "      <th>지점</th>\n",
              "      <th>지점명</th>\n",
              "      <th>일시</th>\n",
              "      <th>기온(°C)</th>\n",
              "      <th>지면온도(°C)</th>\n",
              "    </tr>\n",
              "  </thead>\n",
              "  <tbody>\n",
              "    <tr>\n",
              "      <th>0</th>\n",
              "      <td>232</td>\n",
              "      <td>천안</td>\n",
              "      <td>2020-01-01 01:00</td>\n",
              "      <td>-8.7</td>\n",
              "      <td>-2.9</td>\n",
              "    </tr>\n",
              "    <tr>\n",
              "      <th>1</th>\n",
              "      <td>232</td>\n",
              "      <td>천안</td>\n",
              "      <td>2020-01-01 02:00</td>\n",
              "      <td>-7.3</td>\n",
              "      <td>-2.4</td>\n",
              "    </tr>\n",
              "    <tr>\n",
              "      <th>2</th>\n",
              "      <td>232</td>\n",
              "      <td>천안</td>\n",
              "      <td>2020-01-01 03:00</td>\n",
              "      <td>-6.7</td>\n",
              "      <td>-2.2</td>\n",
              "    </tr>\n",
              "    <tr>\n",
              "      <th>3</th>\n",
              "      <td>232</td>\n",
              "      <td>천안</td>\n",
              "      <td>2020-01-01 04:00</td>\n",
              "      <td>-6.2</td>\n",
              "      <td>-2.0</td>\n",
              "    </tr>\n",
              "    <tr>\n",
              "      <th>4</th>\n",
              "      <td>232</td>\n",
              "      <td>천안</td>\n",
              "      <td>2020-01-01 05:00</td>\n",
              "      <td>-5.9</td>\n",
              "      <td>-1.9</td>\n",
              "    </tr>\n",
              "    <tr>\n",
              "      <th>...</th>\n",
              "      <td>...</td>\n",
              "      <td>...</td>\n",
              "      <td>...</td>\n",
              "      <td>...</td>\n",
              "      <td>...</td>\n",
              "    </tr>\n",
              "    <tr>\n",
              "      <th>8777</th>\n",
              "      <td>232</td>\n",
              "      <td>천안</td>\n",
              "      <td>2020-12-31 19:00</td>\n",
              "      <td>-6.6</td>\n",
              "      <td>-0.6</td>\n",
              "    </tr>\n",
              "    <tr>\n",
              "      <th>8778</th>\n",
              "      <td>232</td>\n",
              "      <td>천안</td>\n",
              "      <td>2020-12-31 20:00</td>\n",
              "      <td>-6.4</td>\n",
              "      <td>-0.7</td>\n",
              "    </tr>\n",
              "    <tr>\n",
              "      <th>8779</th>\n",
              "      <td>232</td>\n",
              "      <td>천안</td>\n",
              "      <td>2020-12-31 21:00</td>\n",
              "      <td>-7.3</td>\n",
              "      <td>-1.2</td>\n",
              "    </tr>\n",
              "    <tr>\n",
              "      <th>8780</th>\n",
              "      <td>232</td>\n",
              "      <td>천안</td>\n",
              "      <td>2020-12-31 22:00</td>\n",
              "      <td>-9.0</td>\n",
              "      <td>-1.5</td>\n",
              "    </tr>\n",
              "    <tr>\n",
              "      <th>8781</th>\n",
              "      <td>232</td>\n",
              "      <td>천안</td>\n",
              "      <td>2020-12-31 23:00</td>\n",
              "      <td>-9.2</td>\n",
              "      <td>-1.2</td>\n",
              "    </tr>\n",
              "  </tbody>\n",
              "</table>\n",
              "<p>8782 rows × 5 columns</p>\n",
              "</div>\n",
              "      <button class=\"colab-df-convert\" onclick=\"convertToInteractive('df-c5a1ce39-e3f6-433f-84f6-58b839518bef')\"\n",
              "              title=\"Convert this dataframe to an interactive table.\"\n",
              "              style=\"display:none;\">\n",
              "        \n",
              "  <svg xmlns=\"http://www.w3.org/2000/svg\" height=\"24px\"viewBox=\"0 0 24 24\"\n",
              "       width=\"24px\">\n",
              "    <path d=\"M0 0h24v24H0V0z\" fill=\"none\"/>\n",
              "    <path d=\"M18.56 5.44l.94 2.06.94-2.06 2.06-.94-2.06-.94-.94-2.06-.94 2.06-2.06.94zm-11 1L8.5 8.5l.94-2.06 2.06-.94-2.06-.94L8.5 2.5l-.94 2.06-2.06.94zm10 10l.94 2.06.94-2.06 2.06-.94-2.06-.94-.94-2.06-.94 2.06-2.06.94z\"/><path d=\"M17.41 7.96l-1.37-1.37c-.4-.4-.92-.59-1.43-.59-.52 0-1.04.2-1.43.59L10.3 9.45l-7.72 7.72c-.78.78-.78 2.05 0 2.83L4 21.41c.39.39.9.59 1.41.59.51 0 1.02-.2 1.41-.59l7.78-7.78 2.81-2.81c.8-.78.8-2.07 0-2.86zM5.41 20L4 18.59l7.72-7.72 1.47 1.35L5.41 20z\"/>\n",
              "  </svg>\n",
              "      </button>\n",
              "      \n",
              "  <style>\n",
              "    .colab-df-container {\n",
              "      display:flex;\n",
              "      flex-wrap:wrap;\n",
              "      gap: 12px;\n",
              "    }\n",
              "\n",
              "    .colab-df-convert {\n",
              "      background-color: #E8F0FE;\n",
              "      border: none;\n",
              "      border-radius: 50%;\n",
              "      cursor: pointer;\n",
              "      display: none;\n",
              "      fill: #1967D2;\n",
              "      height: 32px;\n",
              "      padding: 0 0 0 0;\n",
              "      width: 32px;\n",
              "    }\n",
              "\n",
              "    .colab-df-convert:hover {\n",
              "      background-color: #E2EBFA;\n",
              "      box-shadow: 0px 1px 2px rgba(60, 64, 67, 0.3), 0px 1px 3px 1px rgba(60, 64, 67, 0.15);\n",
              "      fill: #174EA6;\n",
              "    }\n",
              "\n",
              "    [theme=dark] .colab-df-convert {\n",
              "      background-color: #3B4455;\n",
              "      fill: #D2E3FC;\n",
              "    }\n",
              "\n",
              "    [theme=dark] .colab-df-convert:hover {\n",
              "      background-color: #434B5C;\n",
              "      box-shadow: 0px 1px 3px 1px rgba(0, 0, 0, 0.15);\n",
              "      filter: drop-shadow(0px 1px 2px rgba(0, 0, 0, 0.3));\n",
              "      fill: #FFFFFF;\n",
              "    }\n",
              "  </style>\n",
              "\n",
              "      <script>\n",
              "        const buttonEl =\n",
              "          document.querySelector('#df-c5a1ce39-e3f6-433f-84f6-58b839518bef button.colab-df-convert');\n",
              "        buttonEl.style.display =\n",
              "          google.colab.kernel.accessAllowed ? 'block' : 'none';\n",
              "\n",
              "        async function convertToInteractive(key) {\n",
              "          const element = document.querySelector('#df-c5a1ce39-e3f6-433f-84f6-58b839518bef');\n",
              "          const dataTable =\n",
              "            await google.colab.kernel.invokeFunction('convertToInteractive',\n",
              "                                                     [key], {});\n",
              "          if (!dataTable) return;\n",
              "\n",
              "          const docLinkHtml = 'Like what you see? Visit the ' +\n",
              "            '<a target=\"_blank\" href=https://colab.research.google.com/notebooks/data_table.ipynb>data table notebook</a>'\n",
              "            + ' to learn more about interactive tables.';\n",
              "          element.innerHTML = '';\n",
              "          dataTable['output_type'] = 'display_data';\n",
              "          await google.colab.output.renderOutput(dataTable, element);\n",
              "          const docLink = document.createElement('div');\n",
              "          docLink.innerHTML = docLinkHtml;\n",
              "          element.appendChild(docLink);\n",
              "        }\n",
              "      </script>\n",
              "    </div>\n",
              "  </div>\n",
              "  "
            ]
          },
          "metadata": {},
          "execution_count": 99
        }
      ]
    },
    {
      "cell_type": "code",
      "source": [
        "df.isnull().sum()"
      ],
      "metadata": {
        "colab": {
          "base_uri": "https://localhost:8080/"
        },
        "id": "m4ipTP3xZuTh",
        "outputId": "fab4de31-b956-4a62-aea2-b1275686c7fa"
      },
      "execution_count": null,
      "outputs": [
        {
          "output_type": "execute_result",
          "data": {
            "text/plain": [
              "지점          0\n",
              "지점명         0\n",
              "일시          0\n",
              "기온(°C)      3\n",
              "지면온도(°C)    0\n",
              "dtype: int64"
            ]
          },
          "metadata": {},
          "execution_count": 100
        }
      ]
    },
    {
      "cell_type": "code",
      "source": [
        "df = df.dropna()\n",
        "df.isnull().sum()"
      ],
      "metadata": {
        "colab": {
          "base_uri": "https://localhost:8080/"
        },
        "id": "sfovvoS5Zg0H",
        "outputId": "6cc89664-f395-4e0f-e224-6c3c34a53d39"
      },
      "execution_count": null,
      "outputs": [
        {
          "output_type": "execute_result",
          "data": {
            "text/plain": [
              "지점          0\n",
              "지점명         0\n",
              "일시          0\n",
              "기온(°C)      0\n",
              "지면온도(°C)    0\n",
              "dtype: int64"
            ]
          },
          "metadata": {},
          "execution_count": 101
        }
      ]
    },
    {
      "cell_type": "code",
      "source": [
        "x_data = df[['기온(°C)']]\n",
        "y_data = df[['지면온도(°C)']]\n",
        "\n",
        "x_data = torch.FloatTensor(x_data.values)\n",
        "y_data = torch.FloatTensor(y_data.values)\n",
        "\n",
        "print(x_data.shape)\n",
        "print(y_data.shape)"
      ],
      "metadata": {
        "colab": {
          "base_uri": "https://localhost:8080/"
        },
        "id": "5LRAuN-eZlvE",
        "outputId": "9735935c-46b7-4cc3-9fdf-a41d6c8aa65d"
      },
      "execution_count": null,
      "outputs": [
        {
          "output_type": "stream",
          "name": "stdout",
          "text": [
            "torch.Size([8779, 1])\n",
            "torch.Size([8779, 1])\n"
          ]
        }
      ]
    },
    {
      "cell_type": "code",
      "source": [
        "plt.figure(figsize=(12, 8))\n",
        "plt.scatter(x_data, y_data)"
      ],
      "metadata": {
        "colab": {
          "base_uri": "https://localhost:8080/",
          "height": 694
        },
        "id": "Mx5DAHwraBjL",
        "outputId": "dd8d0700-cabf-4e86-f2bf-eb3d2e54726b"
      },
      "execution_count": null,
      "outputs": [
        {
          "output_type": "execute_result",
          "data": {
            "text/plain": [
              "<matplotlib.collections.PathCollection at 0x7f0d8a572500>"
            ]
          },
          "metadata": {},
          "execution_count": 117
        },
        {
          "output_type": "display_data",
          "data": {
            "text/plain": [
              "<Figure size 1200x800 with 1 Axes>"
            ],
            "image/png": "[encoded data removed]"
          },
          "metadata": {}
        }
      ]
    },
    {
      "cell_type": "code",
      "source": [
        "model = nn.Linear(1, 1)\n",
        "optimizer = torch.optim.SGD(model.parameters(), lr=0.001)\n",
        "print(list(model.parameters()))"
      ],
      "metadata": {
        "colab": {
          "base_uri": "https://localhost:8080/"
        },
        "id": "l3HqYXO1aGs-",
        "outputId": "4a4351b9-d3a2-49e2-d430-c93a67b30d99"
      },
      "execution_count": null,
      "outputs": [
        {
          "output_type": "stream",
          "name": "stdout",
          "text": [
            "[Parameter containing:\n",
            "tensor([[0.7470]], requires_grad=True), Parameter containing:\n",
            "tensor([-0.5640], requires_grad=True)]\n"
          ]
        }
      ]
    },
    {
      "cell_type": "code",
      "source": [
        "epochs = 1000\n",
        "\n",
        "for epoch in range(epochs + 1):\n",
        "    y_pred = model(x_data)\n",
        "    loss = nn.MSELoss()(y_pred, y_data)\n",
        "    optimizer.zero_grad()\n",
        "    loss.backward()\n",
        "    optimizer.step()\n",
        "\n",
        "    if epoch % 100 == 0:\n",
        "        print(f'Epoch {epoch}/{epoch} Loss: {loss:.6f}')"
      ],
      "metadata": {
        "colab": {
          "base_uri": "https://localhost:8080/"
        },
        "id": "6vAxXrwqaq8M",
        "outputId": "13cacb82-a677-4111-c240-f512a0c5422f"
      },
      "execution_count": null,
      "outputs": [
        {
          "output_type": "stream",
          "name": "stdout",
          "text": [
            "Epoch 0/0 Loss: 55.169590\n",
            "Epoch 100/100 Loss: 13.599600\n",
            "Epoch 200/200 Loss: 13.503249\n",
            "Epoch 300/300 Loss: 13.421331\n",
            "Epoch 400/400 Loss: 13.351684\n",
            "Epoch 500/500 Loss: 13.292469\n",
            "Epoch 600/600 Loss: 13.242125\n",
            "Epoch 700/700 Loss: 13.199323\n",
            "Epoch 800/800 Loss: 13.162930\n",
            "Epoch 900/900 Loss: 13.131990\n",
            "Epoch 1000/1000 Loss: 13.105685\n"
          ]
        }
      ]
    },
    {
      "cell_type": "code",
      "source": [
        "print(list(model.parameters()))"
      ],
      "metadata": {
        "colab": {
          "base_uri": "https://localhost:8080/"
        },
        "id": "15mEwb_na5hW",
        "outputId": "be8c930b-995f-48d9-c5c2-7e02f68397ca"
      },
      "execution_count": null,
      "outputs": [
        {
          "output_type": "stream",
          "name": "stdout",
          "text": [
            "[Parameter containing:\n",
            "tensor([[1.1148]], requires_grad=True), Parameter containing:\n",
            "tensor([0.2144], requires_grad=True)]\n"
          ]
        }
      ]
    },
    {
      "cell_type": "code",
      "source": [
        "y_pred = model(x_data).detach().numpy() # 저장 후 numpy로 변환\n",
        "y_pred"
      ],
      "metadata": {
        "colab": {
          "base_uri": "https://localhost:8080/"
        },
        "id": "VtXBpmJ6bAFW",
        "outputId": "5b6cda74-2c6b-402c-b4e4-361cd8604226"
      },
      "execution_count": null,
      "outputs": [
        {
          "output_type": "execute_result",
          "data": {
            "text/plain": [
              "array([[ -9.484523 ],\n",
              "       [ -7.9237795],\n",
              "       [ -7.2548885],\n",
              "       ...,\n",
              "       [ -7.9237795],\n",
              "       [ -9.818968 ],\n",
              "       [-10.041931 ]], dtype=float32)"
            ]
          },
          "metadata": {},
          "execution_count": 121
        }
      ]
    },
    {
      "cell_type": "code",
      "source": [
        "plt.figure(figsize=(14, 8))\n",
        "plt.scatter(x_data, y_data)\n",
        "plt.scatter(x_data, y_pred)"
      ],
      "metadata": {
        "colab": {
          "base_uri": "https://localhost:8080/",
          "height": 694
        },
        "id": "TcF31iLHbQIK",
        "outputId": "c7f0afcb-7403-4245-e1c2-4e93f22a851f"
      },
      "execution_count": null,
      "outputs": [
        {
          "output_type": "execute_result",
          "data": {
            "text/plain": [
              "<matplotlib.collections.PathCollection at 0x7f0d883b32b0>"
            ]
          },
          "metadata": {},
          "execution_count": 122
        },
        {
          "output_type": "display_data",
          "data": {
            "text/plain": [
              "<Figure size 1400x800 with 1 Axes>"
            ],
            "image/png": "[encoded data removed]"
          },
          "metadata": {}
        }
      ]
    }
  ]
}